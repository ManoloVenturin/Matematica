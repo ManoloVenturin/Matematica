{
 "cells": [
  {
   "cell_type": "markdown",
   "id": "0de70033",
   "metadata": {},
   "source": [
    "# Maturità 2023 (suppletiva) - Quesito 7"
   ]
  },
  {
   "attachments": {
    "testo_quesito_7.png": {
     "image/png": "[encoded data removed]"
    }
   },
   "cell_type": "markdown",
   "id": "99d4319c",
   "metadata": {},
   "source": [
    "![testo_quesito_7.png](attachment:testo_quesito_7.png)"
   ]
  },
  {
   "cell_type": "markdown",
   "id": "ee611214",
   "metadata": {},
   "source": [
    "Calcolare \n",
    "\n",
    "$$\n",
    "\\lim\\limits_{x\\to1} {\\int\\limits_{1}^{x}(t^2-1)e^{2t}\\,dt \\over  (x-1)^2}\n",
    "$$\n",
    "\n",
    "Si tratta di una forma indeterminata $$\\left[{0\\over 0}\\right]$$\n",
    "\n",
    "Per il numeratore utilizzo il teorema fondamentale del calcolo\n",
    "\n",
    "\n",
    "Applichiamo il teorema di De l’Hôpital."
   ]
  },
  {
   "cell_type": "code",
   "execution_count": 10,
   "id": "0339dbca",
   "metadata": {},
   "outputs": [],
   "source": [
    "# Toolbox simbolico\n",
    "from sympy import *"
   ]
  },
  {
   "cell_type": "code",
   "execution_count": 11,
   "id": "ba9a2cbf",
   "metadata": {},
   "outputs": [],
   "source": [
    "x,t = symbols('x,t', real=True)\n"
   ]
  },
  {
   "cell_type": "code",
   "execution_count": 12,
   "id": "9adaa9a7",
   "metadata": {},
   "outputs": [
    {
     "name": "stdout",
     "output_type": "stream",
     "text": [
      "\\left(x^{2} - 1\\right) e^{2 x}\n"
     ]
    },
    {
     "data": {
      "text/latex": [
       "$\\displaystyle \\left(x^{2} - 1\\right) e^{2 x}$"
      ],
      "text/plain": [
       "(x**2 - 1)*exp(2*x)"
      ]
     },
     "execution_count": 12,
     "metadata": {},
     "output_type": "execute_result"
    }
   ],
   "source": [
    "# Derivata del numeratore\n",
    "f_prime = (x**2-1)*exp(2*x)\n",
    "print_latex(f_prime)\n",
    "f_prime"
   ]
  },
  {
   "cell_type": "code",
   "execution_count": 13,
   "id": "5a89fec0",
   "metadata": {},
   "outputs": [
    {
     "name": "stdout",
     "output_type": "stream",
     "text": [
      "\\left(x - 1\\right)^{2}\n"
     ]
    },
    {
     "data": {
      "text/latex": [
       "$\\displaystyle \\left(x - 1\\right)^{2}$"
      ],
      "text/plain": [
       "(x - 1)**2"
      ]
     },
     "metadata": {},
     "output_type": "display_data"
    },
    {
     "name": "stdout",
     "output_type": "stream",
     "text": [
      "2 x - 2\n"
     ]
    },
    {
     "data": {
      "text/latex": [
       "$\\displaystyle 2 x - 2$"
      ],
      "text/plain": [
       "2*x - 2"
      ]
     },
     "metadata": {},
     "output_type": "display_data"
    }
   ],
   "source": [
    "# Derivata prima del numeratore e denomnatore\n",
    "g = (x-1)**2\n",
    "print_latex(g)\n",
    "display(g)\n",
    "\n",
    "g_prime = diff(g,x)\n",
    "print_latex(g_prime)\n",
    "display(g_prime)\n"
   ]
  },
  {
   "cell_type": "code",
   "execution_count": 21,
   "id": "77c9ffaa",
   "metadata": {},
   "outputs": [
    {
     "data": {
      "text/latex": [
       "$\\displaystyle 0$"
      ],
      "text/plain": [
       "0"
      ]
     },
     "metadata": {},
     "output_type": "display_data"
    },
    {
     "data": {
      "text/latex": [
       "$\\displaystyle 0$"
      ],
      "text/plain": [
       "0"
      ]
     },
     "metadata": {},
     "output_type": "display_data"
    }
   ],
   "source": [
    "# Valutazione\n",
    "f1 = limit(f_prime,x,1)\n",
    "display(f1)\n",
    "\n",
    "g1 = limit(g_prime,x,1)\n",
    "display(g1)\n"
   ]
  },
  {
   "cell_type": "markdown",
   "id": "97b83122",
   "metadata": {},
   "source": [
    "Si tratta ancora della forma indeterminata $$\\left[{0\\over 0}\\right]$$ e quindi applichiamo nuovamente De L'Hopital"
   ]
  },
  {
   "cell_type": "code",
   "execution_count": 22,
   "id": "49c8f63d",
   "metadata": {},
   "outputs": [
    {
     "name": "stdout",
     "output_type": "stream",
     "text": [
      "2 \\left(x^{2} + x - 1\\right) e^{2 x}\n"
     ]
    },
    {
     "data": {
      "text/latex": [
       "$\\displaystyle 2 \\left(x^{2} + x - 1\\right) e^{2 x}$"
      ],
      "text/plain": [
       "2*(x**2 + x - 1)*exp(2*x)"
      ]
     },
     "metadata": {},
     "output_type": "display_data"
    },
    {
     "name": "stdout",
     "output_type": "stream",
     "text": [
      "2\n"
     ]
    },
    {
     "data": {
      "text/latex": [
       "$\\displaystyle 2$"
      ],
      "text/plain": [
       "2"
      ]
     },
     "metadata": {},
     "output_type": "display_data"
    }
   ],
   "source": [
    "# Derivata seconda del numeratore e denomnatore\n",
    "f_second = diff(f_prime, x)\n",
    "f_second = factor(f_second)\n",
    "print_latex(f_second)\n",
    "display(f_second)\n",
    "\n",
    "g_second = diff(g_prime, x)\n",
    "print_latex(g_second)\n",
    "display(g_second)\n"
   ]
  },
  {
   "cell_type": "code",
   "execution_count": 23,
   "id": "fad5aa20",
   "metadata": {},
   "outputs": [
    {
     "data": {
      "text/latex": [
       "$\\displaystyle 2 e^{2}$"
      ],
      "text/plain": [
       "2*exp(2)"
      ]
     },
     "metadata": {},
     "output_type": "display_data"
    },
    {
     "data": {
      "text/latex": [
       "$\\displaystyle 2$"
      ],
      "text/plain": [
       "2"
      ]
     },
     "metadata": {},
     "output_type": "display_data"
    }
   ],
   "source": [
    "# Valutazione\n",
    "f2 = limit(f_second,x,1)\n",
    "display(f2)\n",
    "\n",
    "g2 = limit(g_second,x,1)\n",
    "display(g2)"
   ]
  },
  {
   "cell_type": "code",
   "execution_count": 24,
   "id": "55bd383a",
   "metadata": {},
   "outputs": [
    {
     "data": {
      "text/latex": [
       "$\\displaystyle e^{2}$"
      ],
      "text/plain": [
       "exp(2)"
      ]
     },
     "execution_count": 24,
     "metadata": {},
     "output_type": "execute_result"
    }
   ],
   "source": [
    "L = f2/g2\n",
    "L"
   ]
  },
  {
   "cell_type": "markdown",
   "id": "239bf37b",
   "metadata": {},
   "source": [
    "Visto che il limite esiste anche il limite originario esisterà e sarà uguale a $e^2$"
   ]
  },
  {
   "cell_type": "code",
   "execution_count": null,
   "id": "b770b9de",
   "metadata": {},
   "outputs": [],
   "source": []
  }
 ],
 "metadata": {
  "kernelspec": {
   "display_name": "Python 3 (ipykernel)",
   "language": "python",
   "name": "python3"
  },
  "language_info": {
   "codemirror_mode": {
    "name": "ipython",
    "version": 3
   },
   "file_extension": ".py",
   "mimetype": "text/x-python",
   "name": "python",
   "nbconvert_exporter": "python",
   "pygments_lexer": "ipython3",
   "version": "3.9.10"
  }
 },
 "nbformat": 4,
 "nbformat_minor": 5
}
