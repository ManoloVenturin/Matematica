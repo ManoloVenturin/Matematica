{
 "cells": [
  {
   "cell_type": "markdown",
   "id": "b69f534a",
   "metadata": {},
   "source": [
    "# Maturità 2023 - Quesito 5"
   ]
  },
  {
   "cell_type": "markdown",
   "id": "92a2505b",
   "metadata": {},
   "source": [
    "> Determinare l'equazione della retta tangente alla curva di equazione $y=\\sqrt{25-x^2}$ nel suo punto di ascissa $3$, utilizzando due metodi diversi."
   ]
  },
  {
   "cell_type": "code",
   "execution_count": 1,
   "id": "0b63978a",
   "metadata": {},
   "outputs": [
    {
     "data": {
      "text/latex": [
       "$\\displaystyle \\sqrt{25 - x^{2}}$"
      ],
      "text/plain": [
       "sqrt(25 - x**2)"
      ]
     },
     "execution_count": 1,
     "metadata": {},
     "output_type": "execute_result"
    }
   ],
   "source": [
    "# Toolbox simbolico\n",
    "from sympy import *\n",
    "\n",
    "x,y = symbols('x,y', real=True)\n",
    "\n",
    "f = sqrt(25-x**2)\n",
    "f"
   ]
  },
  {
   "cell_type": "markdown",
   "id": "f45874df",
   "metadata": {},
   "source": [
    "## Dati generali"
   ]
  },
  {
   "cell_type": "code",
   "execution_count": 2,
   "id": "f116e38c",
   "metadata": {},
   "outputs": [
    {
     "data": {
      "text/plain": [
       "(3, 4)"
      ]
     },
     "execution_count": 2,
     "metadata": {},
     "output_type": "execute_result"
    }
   ],
   "source": [
    "x0 = 3\n",
    "y0 = f.subs(x,x0)\n",
    "P = (x0,y0)\n",
    "P"
   ]
  },
  {
   "cell_type": "markdown",
   "id": "7d5a7949",
   "metadata": {},
   "source": [
    "## Strategia 1: derivata"
   ]
  },
  {
   "cell_type": "code",
   "execution_count": 3,
   "id": "42f93fa3",
   "metadata": {},
   "outputs": [
    {
     "data": {
      "text/latex": [
       "$\\displaystyle - \\frac{x}{\\sqrt{25 - x^{2}}}$"
      ],
      "text/plain": [
       "-x/sqrt(25 - x**2)"
      ]
     },
     "metadata": {},
     "output_type": "display_data"
    },
    {
     "data": {
      "text/latex": [
       "$\\displaystyle - \\frac{3}{4}$"
      ],
      "text/plain": [
       "-3/4"
      ]
     },
     "execution_count": 3,
     "metadata": {},
     "output_type": "execute_result"
    }
   ],
   "source": [
    "fp = diff(f,x)\n",
    "display(fp)\n",
    "m = fp.subs(x,x0)\n",
    "m"
   ]
  },
  {
   "cell_type": "code",
   "execution_count": 4,
   "id": "6599bb8f",
   "metadata": {},
   "outputs": [
    {
     "data": {
      "text/latex": [
       "$\\displaystyle \\frac{25}{4} - \\frac{3 x}{4}$"
      ],
      "text/plain": [
       "25/4 - 3*x/4"
      ]
     },
     "execution_count": 4,
     "metadata": {},
     "output_type": "execute_result"
    }
   ],
   "source": [
    "# Equazione della tangente\n",
    "eqtg = solve(Eq(y-y0,m*(x-x0)),y)[0]\n",
    "eqtg"
   ]
  },
  {
   "cell_type": "markdown",
   "id": "b8435b29",
   "metadata": {},
   "source": [
    "## Strategia 2: Gometrico"
   ]
  },
  {
   "cell_type": "code",
   "execution_count": 5,
   "id": "9be1a42f",
   "metadata": {},
   "outputs": [
    {
     "data": {
      "text/latex": [
       "$\\displaystyle y^{2} = 25 - x^{2}$"
      ],
      "text/plain": [
       "Eq(y**2, 25 - x**2)"
      ]
     },
     "execution_count": 5,
     "metadata": {},
     "output_type": "execute_result"
    }
   ],
   "source": [
    "Eqcerchio = Eq(y**2,f**2)\n",
    "Eqcerchio"
   ]
  },
  {
   "cell_type": "code",
   "execution_count": 6,
   "id": "ec83633f",
   "metadata": {},
   "outputs": [
    {
     "data": {
      "text/latex": [
       "$\\displaystyle - \\frac{3}{4}$"
      ],
      "text/plain": [
       "-3/4"
      ]
     },
     "execution_count": 6,
     "metadata": {},
     "output_type": "execute_result"
    }
   ],
   "source": [
    "# m come rapporto incrementale\n",
    "m_op = (y0-0)/(x0-0)\n",
    "m = -1/m_op\n",
    "m"
   ]
  },
  {
   "cell_type": "code",
   "execution_count": 7,
   "id": "181fec95",
   "metadata": {},
   "outputs": [],
   "source": [
    "raggio = y0/x0 *x"
   ]
  },
  {
   "cell_type": "code",
   "execution_count": 8,
   "id": "cad1586c",
   "metadata": {},
   "outputs": [
    {
     "data": {
      "image/png": "[encoded data removed]",
      "text/plain": [
       "<Figure size 432x288 with 1 Axes>"
      ]
     },
     "metadata": {
      "needs_background": "light"
     },
     "output_type": "display_data"
    }
   ],
   "source": [
    "p1 = plot_implicit(Eqcerchio,aspect_ratio=(1.,1.),show=False)\n",
    "p2 = plot(eqtg, (x,-1,9),aspect_ratio=(1.,1.),show=False, markers=[{'args': [x0, y0, 'ro']}])\n",
    "p3 = plot(raggio, (x,0,3),aspect_ratio=(1.,1.),show=False)\n",
    "p4 = plot(f, (x,-5,5),aspect_ratio=(1.,1.),show=False)\n",
    "\n",
    "p2.extend(p1)\n",
    "p2.extend(p3)\n",
    "p2.extend(p4)\n",
    "p2.show()"
   ]
  },
  {
   "cell_type": "markdown",
   "id": "d65ab181",
   "metadata": {},
   "source": [
    "## Strategia 3: $\\Delta = 0$"
   ]
  },
  {
   "cell_type": "code",
   "execution_count": 9,
   "id": "1cb27c60",
   "metadata": {},
   "outputs": [],
   "source": [
    "m = symbols('m', real=True)"
   ]
  },
  {
   "cell_type": "code",
   "execution_count": 10,
   "id": "71df5833",
   "metadata": {},
   "outputs": [
    {
     "data": {
      "text/latex": [
       "$\\displaystyle y - 4 = m \\left(x - 3\\right)$"
      ],
      "text/plain": [
       "Eq(y - 4, m*(x - 3))"
      ]
     },
     "execution_count": 10,
     "metadata": {},
     "output_type": "execute_result"
    }
   ],
   "source": [
    "# Fascio proprio di rette\n",
    "Eqfascio = Eq(y-y0,m*(x-x0))\n",
    "Eqfascio"
   ]
  },
  {
   "cell_type": "code",
   "execution_count": 11,
   "id": "39639183",
   "metadata": {},
   "outputs": [
    {
     "data": {
      "text/latex": [
       "$\\displaystyle m^{2} x^{2} - 6 m^{2} x + 9 m^{2} + 8 m x - 24 m + x^{2} - 9$"
      ],
      "text/plain": [
       "m**2*x**2 - 6*m**2*x + 9*m**2 + 8*m*x - 24*m + x**2 - 9"
      ]
     },
     "metadata": {},
     "output_type": "display_data"
    },
    {
     "name": "stdout",
     "output_type": "stream",
     "text": [
      "a,b,c:\n"
     ]
    },
    {
     "data": {
      "text/latex": [
       "$\\displaystyle m^{2} + 1$"
      ],
      "text/plain": [
       "m**2 + 1"
      ]
     },
     "metadata": {},
     "output_type": "display_data"
    },
    {
     "data": {
      "text/latex": [
       "$\\displaystyle - 6 m^{2} + 8 m$"
      ],
      "text/plain": [
       "-6*m**2 + 8*m"
      ]
     },
     "metadata": {},
     "output_type": "display_data"
    },
    {
     "data": {
      "text/latex": [
       "$\\displaystyle 9 m^{2} - 24 m - 9$"
      ],
      "text/plain": [
       "9*m**2 - 24*m - 9"
      ]
     },
     "metadata": {},
     "output_type": "display_data"
    }
   ],
   "source": [
    "# Intersezione cerchio - retta\n",
    "eq = Eqcerchio.subs(y,solve(Eqfascio,y)[0])\n",
    "# - per normalizzare a positivo come nel video\n",
    "eq = -(eq.rhs - eq.lhs)\n",
    "eq = expand(eq)\n",
    "display(eq)\n",
    "a = eq.coeff(x**2)\n",
    "b = eq.coeff(x)\n",
    "c = expand(eq - a*x**2-b*x)\n",
    "print(\"a,b,c:\")\n",
    "display(a,b,c)"
   ]
  },
  {
   "cell_type": "code",
   "execution_count": 12,
   "id": "17363115",
   "metadata": {},
   "outputs": [
    {
     "data": {
      "text/latex": [
       "$\\displaystyle \\left(4 m + 3\\right)^{2}$"
      ],
      "text/plain": [
       "(4*m + 3)**2"
      ]
     },
     "execution_count": 12,
     "metadata": {},
     "output_type": "execute_result"
    }
   ],
   "source": [
    "# Delta = 0\n",
    "Delta = (b/2)**2 - a*c\n",
    "Delta = factor(Delta)\n",
    "Delta"
   ]
  },
  {
   "cell_type": "code",
   "execution_count": 13,
   "id": "cb860199",
   "metadata": {},
   "outputs": [
    {
     "data": {
      "text/plain": [
       "[-3/4]"
      ]
     },
     "execution_count": 13,
     "metadata": {},
     "output_type": "execute_result"
    }
   ],
   "source": [
    "# Solve\n",
    "solve(Delta,m)"
   ]
  },
  {
   "cell_type": "code",
   "execution_count": null,
   "id": "89ceea28",
   "metadata": {},
   "outputs": [],
   "source": []
  }
 ],
 "metadata": {
  "kernelspec": {
   "display_name": "Python 3 (ipykernel)",
   "language": "python",
   "name": "python3"
  },
  "language_info": {
   "codemirror_mode": {
    "name": "ipython",
    "version": 3
   },
   "file_extension": ".py",
   "mimetype": "text/x-python",
   "name": "python",
   "nbconvert_exporter": "python",
   "pygments_lexer": "ipython3",
   "version": "3.9.10"
  }
 },
 "nbformat": 4,
 "nbformat_minor": 5
}
