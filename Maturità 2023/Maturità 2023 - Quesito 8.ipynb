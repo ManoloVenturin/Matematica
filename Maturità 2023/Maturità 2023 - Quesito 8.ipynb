{
 "cells": [
  {
   "cell_type": "markdown",
   "id": "0de70033",
   "metadata": {},
   "source": [
    "# Maturità 2023 - Quesito 8"
   ]
  },
  {
   "cell_type": "markdown",
   "id": "eca85509",
   "metadata": {},
   "source": [
    "> Data la funzione $f(x)=x^5-5ax+a$, definita nell'insieme dei numeri reali, stabilire per quali valori del parametro $a>0$ la funzione possiede tre zeri reali distinti."
   ]
  },
  {
   "cell_type": "code",
   "execution_count": 1,
   "id": "65a78a0d",
   "metadata": {},
   "outputs": [],
   "source": [
    "# Toolbox simbolico\n",
    "from sympy import *"
   ]
  },
  {
   "cell_type": "markdown",
   "id": "ee0c5632",
   "metadata": {},
   "source": [
    "## Strategia 1: Attraverso lo studio di funzione"
   ]
  },
  {
   "cell_type": "code",
   "execution_count": 2,
   "id": "5292dad0",
   "metadata": {},
   "outputs": [
    {
     "name": "stdout",
     "output_type": "stream",
     "text": [
      "Funzione:\n"
     ]
    },
    {
     "data": {
      "text/latex": [
       "$\\displaystyle - 5 a x + a + x^{5}$"
      ],
      "text/plain": [
       "-5*a*x + a + x**5"
      ]
     },
     "metadata": {},
     "output_type": "display_data"
    }
   ],
   "source": [
    "# Definizione variabili simboliche e funzione (come espressione)\n",
    "# Specifichiamo il fatto che sono reali e nulla del mondo complesso ci interessa\n",
    "x = symbols('x', real=True)\n",
    "a = symbols('a', real=True, positive=True)\n",
    "f = x**5 -5*a*x+a\n",
    "print(\"Funzione:\")\n",
    "display(f)"
   ]
  },
  {
   "cell_type": "code",
   "execution_count": 3,
   "id": "c3c35997",
   "metadata": {},
   "outputs": [
    {
     "name": "stdout",
     "output_type": "stream",
     "text": [
      "Limite a -oo:\n"
     ]
    },
    {
     "data": {
      "text/latex": [
       "$\\displaystyle -\\infty$"
      ],
      "text/plain": [
       "-oo"
      ]
     },
     "metadata": {},
     "output_type": "display_data"
    },
    {
     "name": "stdout",
     "output_type": "stream",
     "text": [
      "Limite a +oo:\n"
     ]
    },
    {
     "data": {
      "text/latex": [
       "$\\displaystyle \\infty$"
      ],
      "text/plain": [
       "oo"
      ]
     },
     "metadata": {},
     "output_type": "display_data"
    }
   ],
   "source": [
    "print(\"Limite a -oo:\")\n",
    "display(limit(f, x, -oo))\n",
    "\n",
    "print(\"Limite a +oo:\")\n",
    "display(limit(f, x, +oo))"
   ]
  },
  {
   "cell_type": "code",
   "execution_count": 4,
   "id": "4981b536",
   "metadata": {},
   "outputs": [
    {
     "name": "stdout",
     "output_type": "stream",
     "text": [
      "Derivata prima:\n"
     ]
    },
    {
     "data": {
      "text/latex": [
       "$\\displaystyle - 5 a + 5 x^{4}$"
      ],
      "text/plain": [
       "-5*a + 5*x**4"
      ]
     },
     "metadata": {},
     "output_type": "display_data"
    }
   ],
   "source": [
    "print(\"Derivata prima:\")\n",
    "fp = diff(f,x)\n",
    "display(fp)"
   ]
  },
  {
   "cell_type": "code",
   "execution_count": 5,
   "id": "18684e94",
   "metadata": {},
   "outputs": [
    {
     "name": "stdout",
     "output_type": "stream",
     "text": [
      "Zeri della derivata prima:\n"
     ]
    },
    {
     "data": {
      "text/plain": [
       "[-a**(1/4), a**(1/4)]"
      ]
     },
     "metadata": {},
     "output_type": "display_data"
    }
   ],
   "source": [
    "print(\"Zeri della derivata prima:\")\n",
    "fzero = solve(fp,x)\n",
    "display(fzero)"
   ]
  },
  {
   "cell_type": "code",
   "execution_count": 6,
   "id": "0b57aa11",
   "metadata": {},
   "outputs": [
    {
     "name": "stdout",
     "output_type": "stream",
     "text": [
      "Valutazione della funzione negli zeri della derivata prima:\n"
     ]
    },
    {
     "data": {
      "text/latex": [
       "$\\displaystyle 4 a^{\\frac{5}{4}} + a$"
      ],
      "text/plain": [
       "4*a**(5/4) + a"
      ]
     },
     "metadata": {},
     "output_type": "display_data"
    },
    {
     "data": {
      "text/latex": [
       "$\\displaystyle - 4 a^{\\frac{5}{4}} + a$"
      ],
      "text/plain": [
       "-4*a**(5/4) + a"
      ]
     },
     "metadata": {},
     "output_type": "display_data"
    }
   ],
   "source": [
    "print(\"Valutazione della funzione negli zeri della derivata prima:\")\n",
    "y1 = f.subs(x,fzero[0])\n",
    "y2 = f.subs(x,fzero[1])\n",
    "display(y1,y2)"
   ]
  },
  {
   "cell_type": "code",
   "execution_count": 7,
   "id": "f9b0aebd",
   "metadata": {},
   "outputs": [
    {
     "name": "stdout",
     "output_type": "stream",
     "text": [
      "Derivata prima < 0:\n"
     ]
    },
    {
     "data": {
      "text/latex": [
       "$\\displaystyle \\left(- \\sqrt[4]{a}, \\sqrt[4]{a}\\right)$"
      ],
      "text/plain": [
       "Interval.open(-a**(1/4), a**(1/4))"
      ]
     },
     "metadata": {},
     "output_type": "display_data"
    },
    {
     "name": "stdout",
     "output_type": "stream",
     "text": [
      "Derivata prima > 0:\n"
     ]
    },
    {
     "data": {
      "text/latex": [
       "$\\displaystyle \\left(-\\infty, - \\sqrt[4]{a}\\right) \\cup \\left(\\sqrt[4]{a}, \\infty\\right)$"
      ],
      "text/plain": [
       "Union(Interval.open(-oo, -a**(1/4)), Interval.open(a**(1/4), oo))"
      ]
     },
     "metadata": {},
     "output_type": "display_data"
    }
   ],
   "source": [
    "# Studio del segno della derivata prima\n",
    "print(\"Derivata prima < 0:\")\n",
    "display(solveset(fp<0, x, S.Reals))\n",
    "\n",
    "print(\"Derivata prima > 0:\")\n",
    "display(solveset(fp>0, x, S.Reals))"
   ]
  },
  {
   "cell_type": "code",
   "execution_count": 8,
   "id": "8954d48f",
   "metadata": {},
   "outputs": [
    {
     "name": "stdout",
     "output_type": "stream",
     "text": [
      "Soluzione massimo sopra l'asse x:\n"
     ]
    },
    {
     "data": {
      "text/latex": [
       "$\\displaystyle \\mathbb{R}$"
      ],
      "text/plain": [
       "Reals"
      ]
     },
     "metadata": {},
     "output_type": "display_data"
    },
    {
     "name": "stdout",
     "output_type": "stream",
     "text": [
      "Soluzione minimo sotto l'asse x:\n"
     ]
    },
    {
     "data": {
      "text/latex": [
       "$\\displaystyle \\left(\\frac{1}{256}, \\infty\\right)$"
      ],
      "text/plain": [
       "Interval.open(1/256, oo)"
      ]
     },
     "metadata": {},
     "output_type": "display_data"
    },
    {
     "name": "stdout",
     "output_type": "stream",
     "text": [
      "Soluzione finale come intersezione delle due:\n"
     ]
    },
    {
     "data": {
      "text/latex": [
       "$\\displaystyle \\left(\\frac{1}{256}, \\infty\\right)$"
      ],
      "text/plain": [
       "Interval.open(1/256, oo)"
      ]
     },
     "metadata": {},
     "output_type": "display_data"
    }
   ],
   "source": [
    "# Soluzione vincoli\n",
    "print(\"Soluzione massimo sopra l'asse x:\")\n",
    "s1 = solveset(y1>0, a, S.Reals)\n",
    "display(s1)\n",
    "\n",
    "print(\"Soluzione minimo sotto l'asse x:\")\n",
    "s2 = solveset(y2<0, a, S.Reals)\n",
    "display(s2)\n",
    "\n",
    "print(\"Soluzione finale come intersezione delle due:\")\n",
    "s = s1.intersect(s2)\n",
    "display(s)"
   ]
  },
  {
   "cell_type": "code",
   "execution_count": 9,
   "id": "86e23ffe",
   "metadata": {},
   "outputs": [
    {
     "data": {
      "image/png": "[encoded data removed]",
      "text/plain": [
       "<Figure size 432x288 with 1 Axes>"
      ]
     },
     "metadata": {
      "needs_background": "light"
     },
     "output_type": "display_data"
    },
    {
     "data": {
      "text/plain": [
       "<sympy.plotting.plot.Plot at 0x17cc77306d0>"
      ]
     },
     "execution_count": 9,
     "metadata": {},
     "output_type": "execute_result"
    }
   ],
   "source": [
    "# Disegno la funzione per i tre valori\n",
    "# Caso 0 < a < 1/256\n",
    "f_caso1 = f.subs(a, 1/256/2) \n",
    "plot(f_caso1, (x, -1/2, 1/2), line_color='darkgreen')"
   ]
  },
  {
   "cell_type": "code",
   "execution_count": 10,
   "id": "981162a0",
   "metadata": {},
   "outputs": [
    {
     "data": {
      "image/png": "[encoded data removed]",
      "text/plain": [
       "<Figure size 432x288 with 1 Axes>"
      ]
     },
     "metadata": {
      "needs_background": "light"
     },
     "output_type": "display_data"
    },
    {
     "data": {
      "text/plain": [
       "<sympy.plotting.plot.Plot at 0x17cc77fda30>"
      ]
     },
     "execution_count": 10,
     "metadata": {},
     "output_type": "execute_result"
    }
   ],
   "source": [
    "# Caso  a = 1/256\n",
    "f_caso2 = f.subs(a, 1/256) \n",
    "plot(f_caso2, (x, -1/2, 1/2), line_color='darkgreen')"
   ]
  },
  {
   "cell_type": "code",
   "execution_count": 11,
   "id": "cb117eaf",
   "metadata": {},
   "outputs": [
    {
     "data": {
      "image/png": "[encoded data removed]",
      "text/plain": [
       "<Figure size 432x288 with 1 Axes>"
      ]
     },
     "metadata": {
      "needs_background": "light"
     },
     "output_type": "display_data"
    },
    {
     "data": {
      "text/plain": [
       "<sympy.plotting.plot.Plot at 0x17ce1956580>"
      ]
     },
     "execution_count": 11,
     "metadata": {},
     "output_type": "execute_result"
    }
   ],
   "source": [
    "# Caso a > 1/256\n",
    "f_caso3 = f.subs(a, 1) \n",
    "plot(f_caso3, (x, -2, 2), line_color='darkgreen')"
   ]
  },
  {
   "cell_type": "markdown",
   "id": "37a996bf",
   "metadata": {},
   "source": [
    "## Strategia 2: Attraverso il teorema di Sturm"
   ]
  },
  {
   "cell_type": "code",
   "execution_count": 12,
   "id": "5f6893d4",
   "metadata": {},
   "outputs": [
    {
     "name": "stdout",
     "output_type": "stream",
     "text": [
      "Polinomio\n"
     ]
    },
    {
     "data": {
      "text/latex": [
       "$\\displaystyle \\operatorname{Poly}{\\left( x^{5} -  5 a x + a, x, domain=\\mathbb{Z}\\left[a\\right] \\right)}$"
      ],
      "text/plain": [
       "Poly(x**5 - 5*a*x + a, x, domain='ZZ[a]')"
      ]
     },
     "metadata": {},
     "output_type": "display_data"
    }
   ],
   "source": [
    "# Definizione del polinomio\n",
    "P = Poly(x**5 -5*a*x+a, x)\n",
    "print(\"Polinomio\")\n",
    "display(P)"
   ]
  },
  {
   "cell_type": "code",
   "execution_count": 13,
   "id": "0627f4cb",
   "metadata": {},
   "outputs": [
    {
     "name": "stdout",
     "output_type": "stream",
     "text": [
      "Polinomio derivato\n"
     ]
    },
    {
     "data": {
      "text/latex": [
       "$\\displaystyle \\operatorname{Poly}{\\left( x^{5} -  5 a x + a, x, domain=\\mathbb{Z}\\left[a\\right] \\right)}$"
      ],
      "text/plain": [
       "Poly(x**5 - 5*a*x + a, x, domain='ZZ[a]')"
      ]
     },
     "metadata": {},
     "output_type": "display_data"
    },
    {
     "data": {
      "text/latex": [
       "$\\displaystyle \\operatorname{Poly}{\\left( \\frac{1}{5} x, x, domain=\\mathbb{Z}\\left(a\\right) \\right)}$"
      ],
      "text/plain": [
       "Poly(1/5*x, x, domain='ZZ(a)')"
      ]
     },
     "metadata": {},
     "output_type": "display_data"
    },
    {
     "data": {
      "text/latex": [
       "$\\displaystyle \\operatorname{Poly}{\\left( - 4 a x + a, x, domain=\\mathbb{Z}\\left[a\\right] \\right)}$"
      ],
      "text/plain": [
       "Poly(-4*a*x + a, x, domain='ZZ[a]')"
      ]
     },
     "metadata": {},
     "output_type": "display_data"
    }
   ],
   "source": [
    "# Esempio di divisione con resto tra P e il suo polinomio derivato\n",
    "Pprime = diff(P,x)\n",
    "print(\"Polinomio derivato\")\n",
    "display(P)\n",
    "\n",
    "# Esempio di divisione con resto\n",
    "display(quo(P,Pprime))\n",
    "display(rem(P,Pprime))"
   ]
  },
  {
   "cell_type": "code",
   "execution_count": 14,
   "id": "b0d33363",
   "metadata": {},
   "outputs": [
    {
     "name": "stdout",
     "output_type": "stream",
     "text": [
      "Successione di Sturm\n"
     ]
    },
    {
     "data": {
      "text/plain": [
       "[Poly(x**5 - 5*a*x + a, x, domain='ZZ(a)'),\n",
       " Poly(5*x**4 - 5*a, x, domain='ZZ(a)'),\n",
       " Poly(4*a*x - a, x, domain='ZZ(a)'),\n",
       " Poly(5*a - 5/256, x, domain='ZZ(a)')]"
      ]
     },
     "execution_count": 14,
     "metadata": {},
     "output_type": "execute_result"
    }
   ],
   "source": [
    "print(\"Successione di Sturm\")\n",
    "Psturm = sturm(P)\n",
    "Psturm"
   ]
  },
  {
   "cell_type": "code",
   "execution_count": 15,
   "id": "0ee91c7b",
   "metadata": {},
   "outputs": [
    {
     "name": "stdout",
     "output_type": "stream",
     "text": [
      "Termini principali\n"
     ]
    },
    {
     "data": {
      "text/plain": [
       "[x**5, 5*x**4, 4*a*x, 5*a - 5/256]"
      ]
     },
     "execution_count": 15,
     "metadata": {},
     "output_type": "execute_result"
    }
   ],
   "source": [
    "# Termini principali (leading term) per la valutazione a -oo e a +oo\n",
    "terminiprincipali = [LT(psturm) for psturm in Psturm]\n",
    "print(\"Termini principali\")\n",
    "terminiprincipali"
   ]
  },
  {
   "cell_type": "code",
   "execution_count": 16,
   "id": "4c839129",
   "metadata": {},
   "outputs": [
    {
     "name": "stdout",
     "output_type": "stream",
     "text": [
      "Termine discriminante per a:\n"
     ]
    },
    {
     "data": {
      "text/plain": [
       "[1/256]"
      ]
     },
     "metadata": {},
     "output_type": "display_data"
    }
   ],
   "source": [
    "# Essendo a>0 il segno dipenderà solo dall'ultimo termine\n",
    "sa = solve(terminiprincipali[-1], a)\n",
    "print(\"Termine discriminante per a:\")\n",
    "display(sa)"
   ]
  },
  {
   "cell_type": "code",
   "execution_count": 17,
   "id": "f835dec1",
   "metadata": {},
   "outputs": [
    {
     "name": "stdout",
     "output_type": "stream",
     "text": [
      "Variazioni caso 0 < a < 1/256\n",
      "1\n"
     ]
    }
   ],
   "source": [
    "print(\"Variazioni caso 0 < a < 1/256\")\n",
    "V_minf = [\"-\",\"+\",\"-\",\"-\"]\n",
    "V_pinf = [\"+\",\"+\",\"+\",\"-\"]\n",
    "print(2 - 1)"
   ]
  },
  {
   "cell_type": "code",
   "execution_count": 18,
   "id": "d946f14a",
   "metadata": {},
   "outputs": [
    {
     "name": "stdout",
     "output_type": "stream",
     "text": [
      "Variazioni caso a = 1/256\n",
      "2\n"
     ]
    }
   ],
   "source": [
    "print(\"Variazioni caso a = 1/256\")\n",
    "V_minf = [\"-\",\"+\",\"-\"]\n",
    "V_pinf = [\"+\",\"+\",\"+\"]\n",
    "print(2 - 0)"
   ]
  },
  {
   "cell_type": "code",
   "execution_count": 19,
   "id": "694a92e9",
   "metadata": {},
   "outputs": [
    {
     "name": "stdout",
     "output_type": "stream",
     "text": [
      "Variazioni caso a > 1/256\n",
      "3\n"
     ]
    }
   ],
   "source": [
    "print(\"Variazioni caso a > 1/256\")\n",
    "V_minf = [\"-\",\"+\",\"-\",\"+\"]\n",
    "V_pinf = [\"+\",\"+\",\"+\",\"+\"]\n",
    "print(3 - 0)"
   ]
  },
  {
   "cell_type": "code",
   "execution_count": null,
   "id": "cb20c3d0",
   "metadata": {},
   "outputs": [],
   "source": []
  },
  {
   "cell_type": "code",
   "execution_count": null,
   "id": "af99e537",
   "metadata": {},
   "outputs": [],
   "source": []
  }
 ],
 "metadata": {
  "kernelspec": {
   "display_name": "Python 3 (ipykernel)",
   "language": "python",
   "name": "python3"
  },
  "language_info": {
   "codemirror_mode": {
    "name": "ipython",
    "version": 3
   },
   "file_extension": ".py",
   "mimetype": "text/x-python",
   "name": "python",
   "nbconvert_exporter": "python",
   "pygments_lexer": "ipython3",
   "version": "3.9.10"
  }
 },
 "nbformat": 4,
 "nbformat_minor": 5
}
