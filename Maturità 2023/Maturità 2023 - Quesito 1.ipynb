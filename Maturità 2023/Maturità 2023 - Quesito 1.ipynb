{
 "cells": [
  {
   "cell_type": "markdown",
   "id": "b69f534a",
   "metadata": {},
   "source": [
    "# Maturità 2023 - Quesito 3"
   ]
  },
  {
   "cell_type": "markdown",
   "id": "92a2505b",
   "metadata": {},
   "source": [
    "> Sia $ABC$ un triangolo rettangolo in $A$. Sia $O$ il centro del quadrato $BCDE$ costruito sull'ipotenusa, dalla parte opposta al vertice $A$ .\n",
    ">\n",
    "> Dimostrare che $O$ è equidistante dalle rette $AB$ e $AC$."
   ]
  },
  {
   "cell_type": "markdown",
   "id": "18da0804",
   "metadata": {},
   "source": [
    "![TESTO](quesito1_quadrato.png)"
   ]
  },
  {
   "cell_type": "code",
   "execution_count": 1,
   "id": "666646db",
   "metadata": {},
   "outputs": [],
   "source": [
    "# Simbolico e variabili\n",
    "from sympy import *\n",
    "B,C,L = symbols(\"B,C,L\")"
   ]
  },
  {
   "cell_type": "code",
   "execution_count": 2,
   "id": "571ff6b2",
   "metadata": {},
   "outputs": [],
   "source": [
    "# Vettori base\n",
    "vB = Matrix([B,0])\n",
    "vC = Matrix([0,C])\n",
    "# L = sqrt(C**2+B**2)"
   ]
  },
  {
   "cell_type": "code",
   "execution_count": 3,
   "id": "ae49d328",
   "metadata": {},
   "outputs": [
    {
     "data": {
      "text/latex": [
       "$\\displaystyle \\left[\\begin{matrix}\\frac{C}{L}\\\\\\frac{B}{L}\\end{matrix}\\right]$"
      ],
      "text/plain": [
       "Matrix([\n",
       "[C/L],\n",
       "[B/L]])"
      ]
     },
     "metadata": {},
     "output_type": "display_data"
    },
    {
     "data": {
      "text/latex": [
       "$\\displaystyle 0$"
      ],
      "text/plain": [
       "0"
      ]
     },
     "execution_count": 3,
     "metadata": {},
     "output_type": "execute_result"
    }
   ],
   "source": [
    "# Vettore ortogonale con verifica\n",
    "v_BC = vB-vC\n",
    "v_BC_orth_unit = Matrix([C,B]) / L\n",
    "display(v_BC_orth_unit)\n",
    "v_BC_orth_unit.dot(v_BC)"
   ]
  },
  {
   "cell_type": "code",
   "execution_count": 4,
   "id": "678e3ccf",
   "metadata": {},
   "outputs": [
    {
     "data": {
      "text/latex": [
       "$\\displaystyle \\left[\\begin{matrix}\\frac{B}{2}\\\\\\frac{C}{2}\\end{matrix}\\right]$"
      ],
      "text/plain": [
       "Matrix([\n",
       "[B/2],\n",
       "[C/2]])"
      ]
     },
     "execution_count": 4,
     "metadata": {},
     "output_type": "execute_result"
    }
   ],
   "source": [
    "# Punto medio\n",
    "M = (vB+vC)/2\n",
    "M"
   ]
  },
  {
   "cell_type": "code",
   "execution_count": 5,
   "id": "f9e47ca6",
   "metadata": {},
   "outputs": [
    {
     "data": {
      "text/latex": [
       "$\\displaystyle \\left[\\begin{matrix}\\frac{B}{2} + \\frac{C}{2}\\\\\\frac{B}{2} + \\frac{C}{2}\\end{matrix}\\right]$"
      ],
      "text/plain": [
       "Matrix([\n",
       "[B/2 + C/2],\n",
       "[B/2 + C/2]])"
      ]
     },
     "execution_count": 5,
     "metadata": {},
     "output_type": "execute_result"
    }
   ],
   "source": [
    "# Centro del quadrato O\n",
    "O = M + v_BC_orth_unit*L/2\n",
    "O"
   ]
  },
  {
   "cell_type": "code",
   "execution_count": 6,
   "id": "d5bd2a79",
   "metadata": {},
   "outputs": [
    {
     "data": {
      "text/latex": [
       "$\\displaystyle 0$"
      ],
      "text/plain": [
       "0"
      ]
     },
     "execution_count": 6,
     "metadata": {},
     "output_type": "execute_result"
    }
   ],
   "source": [
    "# Verifica\n",
    "simplify(O[1]-O[0])"
   ]
  },
  {
   "cell_type": "code",
   "execution_count": null,
   "id": "bbc89f86",
   "metadata": {},
   "outputs": [],
   "source": []
  }
 ],
 "metadata": {
  "kernelspec": {
   "display_name": "Python 3 (ipykernel)",
   "language": "python",
   "name": "python3"
  },
  "language_info": {
   "codemirror_mode": {
    "name": "ipython",
    "version": 3
   },
   "file_extension": ".py",
   "mimetype": "text/x-python",
   "name": "python",
   "nbconvert_exporter": "python",
   "pygments_lexer": "ipython3",
   "version": "3.9.10"
  }
 },
 "nbformat": 4,
 "nbformat_minor": 5
}
