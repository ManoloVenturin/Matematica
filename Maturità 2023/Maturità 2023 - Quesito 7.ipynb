{
 "cells": [
  {
   "cell_type": "markdown",
   "id": "8db210fe",
   "metadata": {},
   "source": [
    "# Maturità 2023 - Quesito 7"
   ]
  },
  {
   "cell_type": "markdown",
   "id": "f6879c0b",
   "metadata": {},
   "source": [
    "> Si consideri la funzione $$f(x)=\\begin{cases}-1+\\arctan{x}&,&x<0\\\\ax+b&,&x\\geqslant0\\end{cases}$$ determinare per quali valori dei parametri reali $a$, $b$ la funzione è derivabile.\n",
    ">\n",
    "> Stabilire se esiste un intervallo di $\\mathbb{R}$ in cui la funzione $f$ soddisfa le ipotesi del teorema di Rolle. Motivare la risposta.\n",
    "\n"
   ]
  },
  {
   "cell_type": "code",
   "execution_count": 1,
   "id": "78ac9824",
   "metadata": {},
   "outputs": [],
   "source": [
    "# Toolbox simbolico\n",
    "from sympy import *"
   ]
  },
  {
   "cell_type": "markdown",
   "id": "a586b9c8",
   "metadata": {},
   "source": [
    "## Analizzo condizione di continuità"
   ]
  },
  {
   "cell_type": "code",
   "execution_count": 2,
   "id": "d1f5dbb0",
   "metadata": {},
   "outputs": [],
   "source": [
    "# Variabili\n",
    "x = symbols('x', real=True)\n",
    "a = symbols('a', real=True)\n",
    "b = symbols('b', real=True)\n",
    "\n",
    "# Singoli tratti della funzione\n",
    "fneg = -1+atan(x)\n",
    "fpos = a*x+b"
   ]
  },
  {
   "cell_type": "code",
   "execution_count": 3,
   "id": "07c688b4",
   "metadata": {},
   "outputs": [
    {
     "name": "stdout",
     "output_type": "stream",
     "text": [
      "Limite per x-> 0-:\n",
      "-1\n"
     ]
    }
   ],
   "source": [
    "print(\"Limite per x-> 0-:\")\n",
    "l1 = limit(fneg,x,0,'-')\n",
    "print(l1)"
   ]
  },
  {
   "cell_type": "code",
   "execution_count": 4,
   "id": "4b1fb28e",
   "metadata": {},
   "outputs": [
    {
     "name": "stdout",
     "output_type": "stream",
     "text": [
      "Limite per x-> 0+ o f(0):\n",
      "b\n"
     ]
    }
   ],
   "source": [
    "print(\"Limite per x-> 0+ o f(0):\")\n",
    "l2 = fpos.subs(x,0)\n",
    "print(l2)"
   ]
  },
  {
   "cell_type": "code",
   "execution_count": 5,
   "id": "c52bc988",
   "metadata": {},
   "outputs": [
    {
     "name": "stdout",
     "output_type": "stream",
     "text": [
      "Equazione di continuità:\n"
     ]
    },
    {
     "data": {
      "text/latex": [
       "$\\displaystyle - b - 1$"
      ],
      "text/plain": [
       "-b - 1"
      ]
     },
     "metadata": {},
     "output_type": "display_data"
    },
    {
     "name": "stdout",
     "output_type": "stream",
     "text": [
      "Risoluzione in b:\n",
      "[-1]\n",
      "ax+b si trasforma in:\n"
     ]
    },
    {
     "data": {
      "text/latex": [
       "$\\displaystyle a x - 1$"
      ],
      "text/plain": [
       "a*x - 1"
      ]
     },
     "metadata": {},
     "output_type": "display_data"
    }
   ],
   "source": [
    "# Condizione di continuità\n",
    "print(\"Equazione di continuità:\")\n",
    "eqcont = l1-l2\n",
    "display(eqcont)\n",
    "\n",
    "print(\"Risoluzione in b:\")\n",
    "bsol = solve(eqcont,b)\n",
    "print(bsol)\n",
    "\n",
    "# Sostituzione del valore di b nell'espressione iniziale\n",
    "print(\"ax+b si trasforma in:\")\n",
    "fpos = fpos.subs(b,bsol[0])\n",
    "display(fpos)"
   ]
  },
  {
   "cell_type": "markdown",
   "id": "e35d4c31",
   "metadata": {},
   "source": [
    "## Analizzo condizione di derivabilità"
   ]
  },
  {
   "cell_type": "code",
   "execution_count": 6,
   "id": "eebedff3",
   "metadata": {},
   "outputs": [
    {
     "name": "stdout",
     "output_type": "stream",
     "text": [
      "Derivata per x<0:\n"
     ]
    },
    {
     "data": {
      "text/latex": [
       "$\\displaystyle \\frac{1}{x^{2} + 1}$"
      ],
      "text/plain": [
       "1/(x**2 + 1)"
      ]
     },
     "metadata": {},
     "output_type": "display_data"
    },
    {
     "name": "stdout",
     "output_type": "stream",
     "text": [
      "Derivata per x>0:\n"
     ]
    },
    {
     "data": {
      "text/latex": [
       "$\\displaystyle a$"
      ],
      "text/plain": [
       "a"
      ]
     },
     "metadata": {},
     "output_type": "display_data"
    }
   ],
   "source": [
    "# Derivate\n",
    "print(\"Derivata per x<0:\")\n",
    "fneg_der = diff(fneg,x)\n",
    "display(fneg_der)\n",
    "\n",
    "print(\"Derivata per x>0:\")\n",
    "fpos_der = diff(fpos,x)\n",
    "display(fpos_der)"
   ]
  },
  {
   "cell_type": "code",
   "execution_count": 7,
   "id": "3f59d786",
   "metadata": {},
   "outputs": [
    {
     "name": "stdout",
     "output_type": "stream",
     "text": [
      "Limite sinistro e destro della derivata per x->0:\n"
     ]
    },
    {
     "data": {
      "text/latex": [
       "$\\displaystyle 1$"
      ],
      "text/plain": [
       "1"
      ]
     },
     "metadata": {},
     "output_type": "display_data"
    },
    {
     "data": {
      "text/latex": [
       "$\\displaystyle a$"
      ],
      "text/plain": [
       "a"
      ]
     },
     "metadata": {},
     "output_type": "display_data"
    }
   ],
   "source": [
    "# Valutazione dei limiti della derivata per x=0\n",
    "d1 = limit(fneg_der,x,0,'-')\n",
    "d2 = limit(fpos_der,x,0,'+')\n",
    "\n",
    "print(\"Limite sinistro e destro della derivata per x->0:\")\n",
    "display(d1,d2)"
   ]
  },
  {
   "cell_type": "code",
   "execution_count": 8,
   "id": "fa1f9327",
   "metadata": {},
   "outputs": [
    {
     "data": {
      "text/latex": [
       "$\\displaystyle 1 - a$"
      ],
      "text/plain": [
       "1 - a"
      ]
     },
     "metadata": {},
     "output_type": "display_data"
    },
    {
     "name": "stdout",
     "output_type": "stream",
     "text": [
      "Risoluzione in a:\n",
      "[1]\n",
      "ax+b si trasforma in:\n"
     ]
    },
    {
     "data": {
      "text/latex": [
       "$\\displaystyle x - 1$"
      ],
      "text/plain": [
       "x - 1"
      ]
     },
     "metadata": {},
     "output_type": "display_data"
    },
    {
     "data": {
      "text/latex": [
       "$\\displaystyle 1$"
      ],
      "text/plain": [
       "1"
      ]
     },
     "metadata": {},
     "output_type": "display_data"
    }
   ],
   "source": [
    "# Condizione di derivabilità\n",
    "eqcont = d1-d2\n",
    "display(eqcont)\n",
    "\n",
    "print(\"Risoluzione in a:\")\n",
    "asol = solve(eqcont,a)\n",
    "print(asol)\n",
    "\n",
    "# Sostituzione del valore di b nell'espressione iniziale e nelle sue derivate\n",
    "print(\"ax+b si trasforma in:\")\n",
    "fpos = fpos.subs(a,asol[0])\n",
    "display(fpos)\n",
    "\n",
    "fpos_der = fpos_der.subs(a,asol[0])\n",
    "display(fpos_der)"
   ]
  },
  {
   "cell_type": "code",
   "execution_count": 9,
   "id": "54ececed",
   "metadata": {},
   "outputs": [
    {
     "data": {
      "image/png": "[encoded data removed]",
      "text/plain": [
       "<Figure size 432x288 with 1 Axes>"
      ]
     },
     "metadata": {
      "needs_background": "light"
     },
     "output_type": "display_data"
    },
    {
     "data": {
      "text/plain": [
       "<sympy.plotting.plot.Plot at 0x132432394f0>"
      ]
     },
     "execution_count": 9,
     "metadata": {},
     "output_type": "execute_result"
    }
   ],
   "source": [
    "## Disegno della funzione\n",
    "f = Piecewise((fneg,x<0),(fpos, True))\n",
    "\n",
    "plot(f, (x, -20, 20), line_color='darkgreen')"
   ]
  },
  {
   "cell_type": "markdown",
   "id": "60d95fae",
   "metadata": {},
   "source": [
    "## Rolle"
   ]
  },
  {
   "cell_type": "code",
   "execution_count": 10,
   "id": "09e9def1",
   "metadata": {},
   "outputs": [
    {
     "data": {
      "text/latex": [
       "$\\displaystyle \\mathbb{R}$"
      ],
      "text/plain": [
       "Reals"
      ]
     },
     "metadata": {},
     "output_type": "display_data"
    },
    {
     "data": {
      "text/latex": [
       "$\\displaystyle \\mathbb{R}$"
      ],
      "text/plain": [
       "Reals"
      ]
     },
     "metadata": {},
     "output_type": "display_data"
    }
   ],
   "source": [
    "# Derivata prima sempre >0 infatti\n",
    "display(solveset(fneg_der>0,a,S.Reals))\n",
    "display(solveset(fpos_der>0,a,S.Reals))"
   ]
  },
  {
   "cell_type": "markdown",
   "id": "4c112194",
   "metadata": {},
   "source": [
    "**Nota:** Quindi essendo strettamente crescente non è possibile applicare Rolle."
   ]
  },
  {
   "cell_type": "code",
   "execution_count": null,
   "id": "b0b71871",
   "metadata": {},
   "outputs": [],
   "source": []
  }
 ],
 "metadata": {
  "kernelspec": {
   "display_name": "Python 3 (ipykernel)",
   "language": "python",
   "name": "python3"
  },
  "language_info": {
   "codemirror_mode": {
    "name": "ipython",
    "version": 3
   },
   "file_extension": ".py",
   "mimetype": "text/x-python",
   "name": "python",
   "nbconvert_exporter": "python",
   "pygments_lexer": "ipython3",
   "version": "3.9.10"
  }
 },
 "nbformat": 4,
 "nbformat_minor": 5
}
