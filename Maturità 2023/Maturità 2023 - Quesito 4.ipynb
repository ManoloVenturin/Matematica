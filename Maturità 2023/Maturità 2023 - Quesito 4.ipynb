{
 "cells": [
  {
   "cell_type": "markdown",
   "id": "b69f534a",
   "metadata": {},
   "source": [
    "# Maturità 2023 - Quesito 4"
   ]
  },
  {
   "cell_type": "markdown",
   "id": "92a2505b",
   "metadata": {},
   "source": [
    "> Tra tutti i parallelepipedi a base quadrata di volume $V$, stabilire se quello di area totale minima ha anche diagonale di lunghezza minima.\n",
    "\n",
    "![TESTO PROBLEMA 1](parallelepipedo.png)"
   ]
  },
  {
   "cell_type": "code",
   "execution_count": 1,
   "id": "0b63978a",
   "metadata": {},
   "outputs": [],
   "source": [
    "# Toolbox simbolico\n",
    "from sympy import *\n",
    "\n",
    "l,h,V = symbols('l,h,V', real=True, positive=True)"
   ]
  },
  {
   "cell_type": "code",
   "execution_count": 2,
   "id": "442cbc75",
   "metadata": {},
   "outputs": [
    {
     "data": {
      "text/latex": [
       "$\\displaystyle 4 h l + 2 l^{2}$"
      ],
      "text/plain": [
       "4*h*l + 2*l**2"
      ]
     },
     "metadata": {},
     "output_type": "display_data"
    },
    {
     "data": {
      "text/latex": [
       "$\\displaystyle h^{2} + 2 l^{2}$"
      ],
      "text/plain": [
       "h**2 + 2*l**2"
      ]
     },
     "metadata": {},
     "output_type": "display_data"
    }
   ],
   "source": [
    "# Area di base, Area laterale, Area totale, Diagonale al quadrato\n",
    "Ab = l**2\n",
    "Al = 4*l*h\n",
    "A = 2*Ab + Al\n",
    "D2 = l**2+l**2+h**2\n",
    "\n",
    "display(A,D2)"
   ]
  },
  {
   "cell_type": "code",
   "execution_count": 3,
   "id": "0be63f81",
   "metadata": {},
   "outputs": [
    {
     "data": {
      "text/latex": [
       "$\\displaystyle V = h l^{2}$"
      ],
      "text/plain": [
       "Eq(V, h*l**2)"
      ]
     },
     "execution_count": 3,
     "metadata": {},
     "output_type": "execute_result"
    }
   ],
   "source": [
    "# Vincolo\n",
    "Eqvincolo = Eq(V,l**2*h)\n",
    "Eqvincolo"
   ]
  },
  {
   "cell_type": "code",
   "execution_count": 4,
   "id": "8718473d",
   "metadata": {},
   "outputs": [
    {
     "data": {
      "text/latex": [
       "$\\displaystyle \\frac{V}{l^{2}}$"
      ],
      "text/plain": [
       "V/l**2"
      ]
     },
     "execution_count": 4,
     "metadata": {},
     "output_type": "execute_result"
    }
   ],
   "source": [
    "# Esplicitiamo una variabile del vincolo:\n",
    "hval = solve(Eqvincolo,h)[0]\n",
    "hval"
   ]
  },
  {
   "cell_type": "markdown",
   "id": "5d4af405",
   "metadata": {},
   "source": [
    "## Minimizzazione area totale"
   ]
  },
  {
   "cell_type": "code",
   "execution_count": 5,
   "id": "248f1ce7",
   "metadata": {},
   "outputs": [
    {
     "data": {
      "text/latex": [
       "$\\displaystyle \\frac{4 V}{l} + 2 l^{2}$"
      ],
      "text/plain": [
       "4*V/l + 2*l**2"
      ]
     },
     "execution_count": 5,
     "metadata": {},
     "output_type": "execute_result"
    }
   ],
   "source": [
    "# Sostituiamo il vincolo nell'equazione da minimizzare dell'area totale\n",
    "Atomin = A.subs(h,hval)\n",
    "Atomin"
   ]
  },
  {
   "cell_type": "code",
   "execution_count": 6,
   "id": "b2678476",
   "metadata": {},
   "outputs": [
    {
     "data": {
      "text/latex": [
       "$\\displaystyle - \\frac{4 V}{l^{2}} + 4 l$"
      ],
      "text/plain": [
       "-4*V/l**2 + 4*l"
      ]
     },
     "metadata": {},
     "output_type": "display_data"
    },
    {
     "data": {
      "text/latex": [
       "$\\displaystyle \\sqrt[3]{V}$"
      ],
      "text/plain": [
       "V**(1/3)"
      ]
     },
     "execution_count": 6,
     "metadata": {},
     "output_type": "execute_result"
    }
   ],
   "source": [
    "# Troviamo i punti stazionari (dervata prima uguale a zero)\n",
    "Atomin_der = diff(Atomin,l)\n",
    "display(Atomin_der)\n",
    "lmin = solve(Atomin_der,l)[0]\n",
    "lmin"
   ]
  },
  {
   "cell_type": "code",
   "execution_count": 7,
   "id": "a42d6d7e",
   "metadata": {},
   "outputs": [
    {
     "data": {
      "text/latex": [
       "$\\displaystyle \\sqrt[3]{V} < l$"
      ],
      "text/plain": [
       "V**(1/3) < l"
      ]
     },
     "execution_count": 7,
     "metadata": {},
     "output_type": "execute_result"
    }
   ],
   "source": [
    "# Segno della derivata prima\n",
    "solve(Atomin_der>0,l)"
   ]
  },
  {
   "cell_type": "code",
   "execution_count": 8,
   "id": "575b35b7",
   "metadata": {},
   "outputs": [
    {
     "data": {
      "text/latex": [
       "$\\displaystyle 12$"
      ],
      "text/plain": [
       "12"
      ]
     },
     "execution_count": 8,
     "metadata": {},
     "output_type": "execute_result"
    }
   ],
   "source": [
    "# Derivata seconda nel punto stazionario\n",
    "diff(Atomin_der,l).subs(l,lmin)"
   ]
  },
  {
   "cell_type": "markdown",
   "id": "6b34c476",
   "metadata": {},
   "source": [
    "## Minimizzazione diagonale"
   ]
  },
  {
   "cell_type": "code",
   "execution_count": 9,
   "id": "9e6117d9",
   "metadata": {},
   "outputs": [
    {
     "data": {
      "text/latex": [
       "$\\displaystyle \\frac{V^{2}}{l^{4}} + 2 l^{2}$"
      ],
      "text/plain": [
       "V**2/l**4 + 2*l**2"
      ]
     },
     "execution_count": 9,
     "metadata": {},
     "output_type": "execute_result"
    }
   ],
   "source": [
    "# Sostituiamo il vincolo nell'equazione da minimizzare dell'area totale\n",
    "D2tomin = D2.subs(h,hval)\n",
    "D2tomin"
   ]
  },
  {
   "cell_type": "code",
   "execution_count": 10,
   "id": "3461b0b7",
   "metadata": {},
   "outputs": [
    {
     "data": {
      "text/latex": [
       "$\\displaystyle - \\frac{4 V^{2}}{l^{5}} + 4 l$"
      ],
      "text/plain": [
       "-4*V**2/l**5 + 4*l"
      ]
     },
     "metadata": {},
     "output_type": "display_data"
    },
    {
     "data": {
      "text/latex": [
       "$\\displaystyle \\sqrt[3]{V}$"
      ],
      "text/plain": [
       "V**(1/3)"
      ]
     },
     "execution_count": 10,
     "metadata": {},
     "output_type": "execute_result"
    }
   ],
   "source": [
    "# Troviamo i punti stazionari (dervata prima uguale a zero)\n",
    "D2tomin_der = diff(D2tomin,l)\n",
    "display(D2tomin_der)\n",
    "lmin = solve(D2tomin_der,l)[0]\n",
    "lmin"
   ]
  },
  {
   "cell_type": "code",
   "execution_count": 11,
   "id": "447b73b3",
   "metadata": {},
   "outputs": [
    {
     "data": {
      "text/latex": [
       "$\\displaystyle \\sqrt[3]{V} < l$"
      ],
      "text/plain": [
       "V**(1/3) < l"
      ]
     },
     "execution_count": 11,
     "metadata": {},
     "output_type": "execute_result"
    }
   ],
   "source": [
    "# Segno della derivata prima\n",
    "solve(D2tomin_der>0,l)"
   ]
  },
  {
   "cell_type": "code",
   "execution_count": 12,
   "id": "c42a7857",
   "metadata": {},
   "outputs": [
    {
     "data": {
      "text/latex": [
       "$\\displaystyle 24$"
      ],
      "text/plain": [
       "24"
      ]
     },
     "execution_count": 12,
     "metadata": {},
     "output_type": "execute_result"
    }
   ],
   "source": [
    "# Derivata seconda nel punto stazionario\n",
    "diff(D2tomin_der,l).subs(l,lmin)"
   ]
  },
  {
   "cell_type": "markdown",
   "id": "257183c3",
   "metadata": {},
   "source": [
    "## Disegno del parallelepipedo minimo"
   ]
  },
  {
   "cell_type": "code",
   "execution_count": 13,
   "id": "350556e4",
   "metadata": {},
   "outputs": [
    {
     "data": {
      "text/plain": [
       "(V**(1/3), V**(1/3), 3*V**(2/3))"
      ]
     },
     "execution_count": 13,
     "metadata": {},
     "output_type": "execute_result"
    }
   ],
   "source": [
    "lmin\n",
    "hmin = hval.subs(l,lmin)\n",
    "D2min = D2.subs(l,lmin).subs(h,hmin)\n",
    "(lmin, hmin, D2min)"
   ]
  },
  {
   "cell_type": "markdown",
   "id": "0c04cecf",
   "metadata": {},
   "source": [
    "**Nota:** Si tratta di un cubo"
   ]
  },
  {
   "cell_type": "code",
   "execution_count": null,
   "id": "1a1d79a6",
   "metadata": {},
   "outputs": [],
   "source": []
  }
 ],
 "metadata": {
  "kernelspec": {
   "display_name": "Python 3 (ipykernel)",
   "language": "python",
   "name": "python3"
  },
  "language_info": {
   "codemirror_mode": {
    "name": "ipython",
    "version": 3
   },
   "file_extension": ".py",
   "mimetype": "text/x-python",
   "name": "python",
   "nbconvert_exporter": "python",
   "pygments_lexer": "ipython3",
   "version": "3.9.10"
  }
 },
 "nbformat": 4,
 "nbformat_minor": 5
}
