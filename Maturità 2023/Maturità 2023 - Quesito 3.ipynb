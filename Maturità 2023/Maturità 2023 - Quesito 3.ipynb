{
 "cells": [
  {
   "cell_type": "markdown",
   "id": "b69f534a",
   "metadata": {},
   "source": [
    "# Maturità 2023 - Quesito 3"
   ]
  },
  {
   "cell_type": "markdown",
   "id": "92a2505b",
   "metadata": {},
   "source": [
    "> Considerata la retta $r$ passante per i due punti $A(1,-2,0)$ e $B(2,3,-1)$, determinare l'equazione cartesiana della superficie sferica di centro $C(1,-6,7)$ e tangente a $r$."
   ]
  },
  {
   "cell_type": "code",
   "execution_count": 1,
   "id": "0b63978a",
   "metadata": {},
   "outputs": [],
   "source": [
    "# Toolbox simbolico\n",
    "from sympy import *\n",
    "\n",
    "t,r = symbols('t,r', real=True)\n",
    "x,y,z = symbols('x,y,z', real=True)"
   ]
  },
  {
   "cell_type": "code",
   "execution_count": 2,
   "id": "8504270f",
   "metadata": {},
   "outputs": [
    {
     "name": "stdout",
     "output_type": "stream",
     "text": [
      "[1, -2, 0] [2, 3, -1] [1, -6, 7]\n"
     ]
    }
   ],
   "source": [
    "# Punti A e B\n",
    "A = Array([1,-2,0])\n",
    "B = Array([2,3,-1])\n",
    "C = Array([1,-6,7])\n",
    "\n",
    "print(A,B,C)"
   ]
  },
  {
   "cell_type": "markdown",
   "id": "82ced0d1",
   "metadata": {},
   "source": [
    "## Scrittura dell'equazione della retta"
   ]
  },
  {
   "cell_type": "code",
   "execution_count": 3,
   "id": "9b00e398",
   "metadata": {},
   "outputs": [
    {
     "data": {
      "text/latex": [
       "$\\displaystyle \\left[\\begin{matrix}1 & 5 & -1\\end{matrix}\\right]$"
      ],
      "text/plain": [
       "[1, 5, -1]"
      ]
     },
     "metadata": {},
     "output_type": "display_data"
    },
    {
     "data": {
      "text/latex": [
       "$\\displaystyle \\left[\\begin{matrix}t + 1 & 5 t - 2 & - t\\end{matrix}\\right]$"
      ],
      "text/plain": [
       "[t + 1, 5*t - 2, -t]"
      ]
     },
     "execution_count": 3,
     "metadata": {},
     "output_type": "execute_result"
    }
   ],
   "source": [
    "# Equazione parametrica della retta\n",
    "display(B-A)\n",
    "d = A + t*(B-A)\n",
    "d"
   ]
  },
  {
   "cell_type": "code",
   "execution_count": 4,
   "id": "9a7ebd4c",
   "metadata": {},
   "outputs": [
    {
     "name": "stdout",
     "output_type": "stream",
     "text": [
      "[0, 0, 0]\n",
      "[0, 0, 0]\n"
     ]
    }
   ],
   "source": [
    "# Verifica del passaggio per i punti A e B\n",
    "print(d.subs(t,0)-A)\n",
    "print(d.subs(t,1)-B)"
   ]
  },
  {
   "cell_type": "code",
   "execution_count": 5,
   "id": "98e63d2c",
   "metadata": {},
   "outputs": [
    {
     "data": {
      "text/latex": [
       "$\\displaystyle \\left[\\begin{matrix}x & y & z\\end{matrix}\\right]$"
      ],
      "text/plain": [
       "[x, y, z]"
      ]
     },
     "execution_count": 5,
     "metadata": {},
     "output_type": "execute_result"
    }
   ],
   "source": [
    "# Equazione del piano\n",
    "X = Array([x,y,z])\n",
    "X"
   ]
  },
  {
   "cell_type": "code",
   "execution_count": 6,
   "id": "457b78d7",
   "metadata": {},
   "outputs": [
    {
     "data": {
      "text/plain": [
       "{x: t + 1, y: 5*t - 2, z: -t}"
      ]
     },
     "execution_count": 6,
     "metadata": {},
     "output_type": "execute_result"
    }
   ],
   "source": [
    "sol = solve(X-(A+t*(B-A)),[x,y,z])\n",
    "sol"
   ]
  },
  {
   "cell_type": "code",
   "execution_count": 7,
   "id": "f0b8bfc2",
   "metadata": {},
   "outputs": [
    {
     "data": {
      "text/latex": [
       "$\\displaystyle x + z - 1$"
      ],
      "text/plain": [
       "x + z - 1"
      ]
     },
     "execution_count": 7,
     "metadata": {},
     "output_type": "execute_result"
    }
   ],
   "source": [
    "alpha = solve(Eq(x,sol[x]),t)[0]-solve(Eq(z,sol[z]),t)[0]\n",
    "alpha"
   ]
  },
  {
   "cell_type": "code",
   "execution_count": 8,
   "id": "1d66a1aa",
   "metadata": {},
   "outputs": [
    {
     "data": {
      "text/latex": [
       "$\\displaystyle y + 5 z + 2$"
      ],
      "text/plain": [
       "y + 5*z + 2"
      ]
     },
     "execution_count": 8,
     "metadata": {},
     "output_type": "execute_result"
    }
   ],
   "source": [
    "beta = 5*(solve(Eq(y,sol[y]),t)[0]-solve(Eq(z,sol[z]),t)[0])\n",
    "beta"
   ]
  },
  {
   "cell_type": "markdown",
   "id": "864edfc7",
   "metadata": {},
   "source": [
    "## Metodo 1"
   ]
  },
  {
   "cell_type": "code",
   "execution_count": 18,
   "id": "76ccaf85",
   "metadata": {},
   "outputs": [
    {
     "name": "stdout",
     "output_type": "stream",
     "text": [
      "1 0 1 -1\n"
     ]
    },
    {
     "data": {
      "text/latex": [
       "$\\displaystyle \\frac{7 \\sqrt{2}}{2}$"
      ],
      "text/plain": [
       "7*sqrt(2)/2"
      ]
     },
     "execution_count": 18,
     "metadata": {},
     "output_type": "execute_result"
    }
   ],
   "source": [
    "# Distanza dal primo piano\n",
    "a_p = alpha.coeff(x)\n",
    "b_p = alpha.coeff(y)\n",
    "c_p = alpha.coeff(z)\n",
    "d_p = expand(alpha - a_p*x-b_p*y-c_p*z)\n",
    "print(a_p,b_p,c_p,d_p)\n",
    "dist = (a_p*C[0]+b_p*C[1]+c_p*C[2]+d_p) / sqrt(a_p**2+b_p**2+c_p**2)\n",
    "dist"
   ]
  },
  {
   "cell_type": "code",
   "execution_count": 17,
   "id": "c91b6bbc",
   "metadata": {},
   "outputs": [
    {
     "name": "stdout",
     "output_type": "stream",
     "text": [
      "0 1 5 2\n"
     ]
    },
    {
     "data": {
      "text/latex": [
       "$\\displaystyle \\frac{31 \\sqrt{26}}{26}$"
      ],
      "text/plain": [
       "31*sqrt(26)/26"
      ]
     },
     "execution_count": 17,
     "metadata": {},
     "output_type": "execute_result"
    }
   ],
   "source": [
    "# Distanza dal secondo piano\n",
    "a_p = beta.coeff(x)\n",
    "b_p = beta.coeff(y)\n",
    "c_p = beta.coeff(z)\n",
    "d_p = expand(beta - a_p*x-b_p*y-c_p*z)\n",
    "print(a_p,b_p,c_p,d_p)\n",
    "dist = (a_p*C[0]+b_p*C[1]+c_p*C[2]+d_p) / sqrt(a_p**2+b_p**2+c_p**2)\n",
    "dist"
   ]
  },
  {
   "cell_type": "markdown",
   "id": "c85297aa",
   "metadata": {},
   "source": [
    "## Metodo 2"
   ]
  },
  {
   "cell_type": "code",
   "execution_count": 11,
   "id": "ffdb9f19",
   "metadata": {},
   "outputs": [
    {
     "data": {
      "text/latex": [
       "$\\displaystyle \\left(x - 1\\right)^{2} + \\left(y + 6\\right)^{2} + \\left(z - 7\\right)^{2} = r^{2}$"
      ],
      "text/plain": [
       "Eq((x - 1)**2 + (y + 6)**2 + (z - 7)**2, r**2)"
      ]
     },
     "execution_count": 11,
     "metadata": {},
     "output_type": "execute_result"
    }
   ],
   "source": [
    "# Equazione della sfera\n",
    "Eqsfera = Eq((x-C[0])**2+(y-C[1])**2+(z-C[2])**2,r**2)\n",
    "Eqsfera"
   ]
  },
  {
   "cell_type": "code",
   "execution_count": 12,
   "id": "df535151",
   "metadata": {},
   "outputs": [
    {
     "data": {
      "text/latex": [
       "$\\displaystyle x + z - 1$"
      ],
      "text/plain": [
       "x + z - 1"
      ]
     },
     "metadata": {},
     "output_type": "display_data"
    },
    {
     "data": {
      "text/latex": [
       "$\\displaystyle y + 5 z + 2$"
      ],
      "text/plain": [
       "y + 5*z + 2"
      ]
     },
     "metadata": {},
     "output_type": "display_data"
    },
    {
     "data": {
      "text/latex": [
       "$\\displaystyle z^{2} + \\left(4 - 5 z\\right)^{2} + \\left(z - 7\\right)^{2} = r^{2}$"
      ],
      "text/plain": [
       "Eq(z**2 + (4 - 5*z)**2 + (z - 7)**2, r**2)"
      ]
     },
     "execution_count": 12,
     "metadata": {},
     "output_type": "execute_result"
    }
   ],
   "source": [
    "# Intersezione con la retta r\n",
    "display(alpha,beta)\n",
    "Eqsfera = Eqsfera.subs(x,solve(alpha,x)[0])\n",
    "Eqsfera = Eqsfera.subs(y,solve(beta,y)[0])\n",
    "Eqsfera"
   ]
  },
  {
   "cell_type": "code",
   "execution_count": 13,
   "id": "97e5fe15",
   "metadata": {},
   "outputs": [
    {
     "data": {
      "text/latex": [
       "$\\displaystyle - r^{2} + 27 z^{2} - 54 z + 65$"
      ],
      "text/plain": [
       "-r**2 + 27*z**2 - 54*z + 65"
      ]
     },
     "execution_count": 13,
     "metadata": {},
     "output_type": "execute_result"
    }
   ],
   "source": [
    "# Riscrittura in termini di z e r\n",
    "Eqsfera = expand(Eqsfera.lhs - Eqsfera.rhs)\n",
    "Eqsfera"
   ]
  },
  {
   "cell_type": "code",
   "execution_count": 14,
   "id": "c98cade1",
   "metadata": {},
   "outputs": [
    {
     "name": "stdout",
     "output_type": "stream",
     "text": [
      "(27, -54, 65 - r**2)\n"
     ]
    },
    {
     "data": {
      "text/latex": [
       "$\\displaystyle 27 r^{2} - 1026$"
      ],
      "text/plain": [
       "27*r**2 - 1026"
      ]
     },
     "execution_count": 14,
     "metadata": {},
     "output_type": "execute_result"
    }
   ],
   "source": [
    "# Coefficienti dell'equazione di secondo grado\n",
    "a_c = Eqsfera.coeff(z**2)\n",
    "b_c = Eqsfera.coeff(z)\n",
    "c_c = expand(Eqsfera - a_c*z**2-b_c*z)\n",
    "print((a_c,b_c,c_c))\n",
    "delta = (b_c**2- 4*a_c*c_c)/4\n",
    "delta"
   ]
  },
  {
   "cell_type": "code",
   "execution_count": 15,
   "id": "9c361229",
   "metadata": {},
   "outputs": [
    {
     "data": {
      "text/plain": [
       "[-sqrt(38), sqrt(38)]"
      ]
     },
     "execution_count": 15,
     "metadata": {},
     "output_type": "execute_result"
    }
   ],
   "source": [
    "# Risoluzione \n",
    "solr = solve(delta,r)\n",
    "solr"
   ]
  },
  {
   "cell_type": "code",
   "execution_count": 16,
   "id": "e32ecf71",
   "metadata": {},
   "outputs": [
    {
     "data": {
      "text/latex": [
       "$\\displaystyle \\sqrt{38}$"
      ],
      "text/plain": [
       "sqrt(38)"
      ]
     },
     "execution_count": 16,
     "metadata": {},
     "output_type": "execute_result"
    }
   ],
   "source": [
    "# Va tenuta la soluzione positiva\n",
    "r = solr[1]\n",
    "r"
   ]
  }
 ],
 "metadata": {
  "kernelspec": {
   "display_name": "Python 3 (ipykernel)",
   "language": "python",
   "name": "python3"
  },
  "language_info": {
   "codemirror_mode": {
    "name": "ipython",
    "version": 3
   },
   "file_extension": ".py",
   "mimetype": "text/x-python",
   "name": "python",
   "nbconvert_exporter": "python",
   "pygments_lexer": "ipython3",
   "version": "3.9.10"
  }
 },
 "nbformat": 4,
 "nbformat_minor": 5
}
