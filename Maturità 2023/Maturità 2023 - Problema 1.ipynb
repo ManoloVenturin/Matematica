{
 "cells": [
  {
   "cell_type": "markdown",
   "id": "73c806bb",
   "metadata": {},
   "source": [
    "# Maturità 2023 - Problema 1"
   ]
  },
  {
   "cell_type": "markdown",
   "id": "46b5b130",
   "metadata": {},
   "source": [
    "![TESTO PROBLEMA 1](testo_problema1.png)"
   ]
  },
  {
   "cell_type": "code",
   "execution_count": 1,
   "id": "2fed84e5",
   "metadata": {},
   "outputs": [],
   "source": [
    "# Toolbox simbolico\n",
    "from sympy import *\n",
    "\n",
    "x,y = symbols('x,y', real=True)\n",
    "a,b,c = symbols('a,b,c', real=True)\n",
    "\n",
    "fparabola = a*(x+2)**2\n",
    "fcerchio = x**2+y**2+b\n",
    "fiperbole = x**2-y**2+c"
   ]
  },
  {
   "cell_type": "markdown",
   "id": "c1ec9907",
   "metadata": {},
   "source": [
    "## A.1\n",
    "> Scrivere un'espressione analitica della funzione $f$ definita a tratti nell'intervallo $[-2,2]$, utilizzando $$y=a(x+2)^2 \\quad\\quad x^2+y^2+b=0 \\quad\\quad x^2-y^2+c=0$$ e individuare i valori opportuni per i parametri reali $a$, $b$ e $c$."
   ]
  },
  {
   "cell_type": "markdown",
   "id": "d7939557",
   "metadata": {},
   "source": [
    "### Arco di parabola"
   ]
  },
  {
   "cell_type": "code",
   "execution_count": 2,
   "id": "3bd1770b",
   "metadata": {},
   "outputs": [
    {
     "data": {
      "text/plain": [
       "[1/4]"
      ]
     },
     "execution_count": 2,
     "metadata": {},
     "output_type": "execute_result"
    }
   ],
   "source": [
    "# Punto di passaggio P\n",
    "P = (0,1)\n",
    "eq = fparabola.subs(x,P[0])-P[1]\n",
    "asol = solve(eq,a)\n",
    "asol"
   ]
  },
  {
   "cell_type": "code",
   "execution_count": 3,
   "id": "4ff2e5ab",
   "metadata": {},
   "outputs": [
    {
     "name": "stdout",
     "output_type": "stream",
     "text": [
      "Equazione di Gamma_1:\n"
     ]
    },
    {
     "data": {
      "text/latex": [
       "$\\displaystyle \\frac{\\left(x + 2\\right)^{2}}{4}$"
      ],
      "text/plain": [
       "(x + 2)**2/4"
      ]
     },
     "execution_count": 3,
     "metadata": {},
     "output_type": "execute_result"
    }
   ],
   "source": [
    "fparabola = fparabola.subs(a,asol[0])\n",
    "print(\"Equazione di Gamma_1:\")\n",
    "fparabola"
   ]
  },
  {
   "cell_type": "markdown",
   "id": "6c07e449",
   "metadata": {},
   "source": [
    "### Arco di circonferenza "
   ]
  },
  {
   "cell_type": "code",
   "execution_count": 4,
   "id": "b3f8a58d",
   "metadata": {},
   "outputs": [
    {
     "data": {
      "text/plain": [
       "[-1]"
      ]
     },
     "execution_count": 4,
     "metadata": {},
     "output_type": "execute_result"
    }
   ],
   "source": [
    "# Punto di passaggio P\n",
    "P = (0,1)\n",
    "eq = fcerchio.subs([(x,P[0]),(y,P[1])])\n",
    "bsol = solve(eq,b)\n",
    "bsol"
   ]
  },
  {
   "cell_type": "code",
   "execution_count": 5,
   "id": "3447745f",
   "metadata": {},
   "outputs": [
    {
     "data": {
      "text/plain": [
       "[-sqrt(1 - x**2), sqrt(1 - x**2)]"
      ]
     },
     "metadata": {},
     "output_type": "display_data"
    },
    {
     "name": "stdout",
     "output_type": "stream",
     "text": [
      "Equazione di Gamma_2:\n"
     ]
    },
    {
     "data": {
      "text/latex": [
       "$\\displaystyle \\sqrt{1 - x^{2}}$"
      ],
      "text/plain": [
       "sqrt(1 - x**2)"
      ]
     },
     "metadata": {},
     "output_type": "display_data"
    }
   ],
   "source": [
    "ftmp = fcerchio.subs(b,bsol[0])\n",
    "fsol = solve(ftmp,y)\n",
    "display(fsol)\n",
    "fcerchio = fsol[1]\n",
    "print(\"Equazione di Gamma_2:\")\n",
    "display(fcerchio)"
   ]
  },
  {
   "cell_type": "markdown",
   "id": "2932983a",
   "metadata": {},
   "source": [
    "### Arco di iperbole"
   ]
  },
  {
   "cell_type": "code",
   "execution_count": 6,
   "id": "746fa614",
   "metadata": {},
   "outputs": [
    {
     "data": {
      "text/plain": [
       "[-1]"
      ]
     },
     "execution_count": 6,
     "metadata": {},
     "output_type": "execute_result"
    }
   ],
   "source": [
    "# Punto di passaggio P\n",
    "P = (1,0)\n",
    "eq = fiperbole.subs([(x,P[0]),(y,P[1])])\n",
    "csol = solve(eq,c)\n",
    "csol"
   ]
  },
  {
   "cell_type": "code",
   "execution_count": 7,
   "id": "96d49544",
   "metadata": {},
   "outputs": [
    {
     "data": {
      "text/plain": [
       "[-sqrt(x**2 - 1), sqrt(x**2 - 1)]"
      ]
     },
     "metadata": {},
     "output_type": "display_data"
    },
    {
     "name": "stdout",
     "output_type": "stream",
     "text": [
      "Equazione di Gamma_3:\n"
     ]
    },
    {
     "data": {
      "text/latex": [
       "$\\displaystyle \\sqrt{x^{2} - 1}$"
      ],
      "text/plain": [
       "sqrt(x**2 - 1)"
      ]
     },
     "metadata": {},
     "output_type": "display_data"
    }
   ],
   "source": [
    "ftmp = fiperbole.subs(c,csol[0])\n",
    "fsol = solve(ftmp,y)\n",
    "display(fsol)\n",
    "fiperbole = fsol[1]\n",
    "print(\"Equazione di Gamma_3:\")\n",
    "display(fiperbole)"
   ]
  },
  {
   "cell_type": "code",
   "execution_count": 8,
   "id": "05ca1441",
   "metadata": {},
   "outputs": [
    {
     "data": {
      "text/latex": [
       "$\\displaystyle \\sqrt{3}$"
      ],
      "text/plain": [
       "sqrt(3)"
      ]
     },
     "execution_count": 8,
     "metadata": {},
     "output_type": "execute_result"
    }
   ],
   "source": [
    "# Valutazione in x=2 dell'iperbole\n",
    "fiperbole.subs(x,2)"
   ]
  },
  {
   "cell_type": "code",
   "execution_count": 9,
   "id": "42b8dd7b",
   "metadata": {},
   "outputs": [
    {
     "data": {
      "image/png": "[encoded data removed]",
      "text/plain": [
       "<Figure size 432x288 with 1 Axes>"
      ]
     },
     "metadata": {
      "needs_background": "light"
     },
     "output_type": "display_data"
    },
    {
     "data": {
      "text/plain": [
       "<sympy.plotting.plot.Plot at 0x13b6a096ee0>"
      ]
     },
     "execution_count": 9,
     "metadata": {},
     "output_type": "execute_result"
    }
   ],
   "source": [
    "### Funzione\n",
    "f = Piecewise((fparabola,x<=0), (fcerchio, x<=1), (fiperbole,x<=2))\n",
    "plot(f,(x,-2,2))"
   ]
  },
  {
   "cell_type": "markdown",
   "id": "cc1e9d10",
   "metadata": {},
   "source": [
    "## A.2\n",
    "> Studiare la derivabilità della funzione $f$ e scrivere le equazioni delle eventuali rette tangenti nei punti di ascissa $$x=-2\\quad\\quad x=0\\quad\\quad x=1\\quad\\quad x=2$$"
   ]
  },
  {
   "cell_type": "code",
   "execution_count": 10,
   "id": "d3512f4c",
   "metadata": {},
   "outputs": [],
   "source": [
    "# Variabili per la retta tangente\n",
    "x0,y0 = symbols('x0,y0', real=True)"
   ]
  },
  {
   "cell_type": "code",
   "execution_count": 11,
   "id": "4c4c5ccf",
   "metadata": {},
   "outputs": [
    {
     "name": "stdout",
     "output_type": "stream",
     "text": [
      "Derivate:\n"
     ]
    },
    {
     "data": {
      "text/latex": [
       "$\\displaystyle \\frac{x}{2} + 1$"
      ],
      "text/plain": [
       "x/2 + 1"
      ]
     },
     "metadata": {},
     "output_type": "display_data"
    },
    {
     "data": {
      "text/latex": [
       "$\\displaystyle - \\frac{x}{\\sqrt{1 - x^{2}}}$"
      ],
      "text/plain": [
       "-x/sqrt(1 - x**2)"
      ]
     },
     "metadata": {},
     "output_type": "display_data"
    },
    {
     "data": {
      "text/latex": [
       "$\\displaystyle \\frac{x}{\\sqrt{x^{2} - 1}}$"
      ],
      "text/plain": [
       "x/sqrt(x**2 - 1)"
      ]
     },
     "metadata": {},
     "output_type": "display_data"
    }
   ],
   "source": [
    "# Derivate nei singoli tratti\n",
    "fparabola_prime = diff(fparabola,x)\n",
    "fcerchio_prime = diff(fcerchio,x)\n",
    "fiperbole_prime = diff(fiperbole,x)\n",
    "print(\"Derivate:\")\n",
    "display(fparabola_prime, fcerchio_prime, fiperbole_prime)"
   ]
  },
  {
   "cell_type": "markdown",
   "id": "cd95e596",
   "metadata": {},
   "source": [
    "### Caso $x=-2$"
   ]
  },
  {
   "cell_type": "code",
   "execution_count": 12,
   "id": "cf9a9822",
   "metadata": {},
   "outputs": [
    {
     "name": "stdout",
     "output_type": "stream",
     "text": [
      "m:\n"
     ]
    },
    {
     "data": {
      "text/latex": [
       "$\\displaystyle 0$"
      ],
      "text/plain": [
       "0"
      ]
     },
     "metadata": {},
     "output_type": "display_data"
    },
    {
     "name": "stdout",
     "output_type": "stream",
     "text": [
      "Retta tangente:\n"
     ]
    },
    {
     "data": {
      "text/latex": [
       "$\\displaystyle 0$"
      ],
      "text/plain": [
       "0"
      ]
     },
     "execution_count": 12,
     "metadata": {},
     "output_type": "execute_result"
    }
   ],
   "source": [
    "m = fparabola_prime.subs(x,-2)\n",
    "print(\"m:\")\n",
    "display(m)\n",
    "\n",
    "P = (-2,0)\n",
    "x0, y0 = P\n",
    "\n",
    "eq_tan_x0 = m*(x-x0) + y0\n",
    "print(\"Retta tangente:\")\n",
    "eq_tan_x0"
   ]
  },
  {
   "cell_type": "code",
   "execution_count": 13,
   "id": "fa89cd19",
   "metadata": {},
   "outputs": [
    {
     "data": {
      "image/png": "[encoded data removed]",
      "text/plain": [
       "<Figure size 432x288 with 1 Axes>"
      ]
     },
     "metadata": {
      "needs_background": "light"
     },
     "output_type": "display_data"
    }
   ],
   "source": [
    "# Disegno\n",
    "p1 = plot(f,(x,-2,2), show=False)\n",
    "p2 = plot(eq_tan_x0,(x,-2,-1/2), show=False)\n",
    "p1.extend(p2)\n",
    "\n",
    "p1.show()"
   ]
  },
  {
   "cell_type": "markdown",
   "id": "d12043ec",
   "metadata": {},
   "source": [
    "### Caso $x=0$"
   ]
  },
  {
   "cell_type": "code",
   "execution_count": 14,
   "id": "cd3b5c7f",
   "metadata": {},
   "outputs": [
    {
     "name": "stdout",
     "output_type": "stream",
     "text": [
      "m(-):\n"
     ]
    },
    {
     "data": {
      "text/latex": [
       "$\\displaystyle 1$"
      ],
      "text/plain": [
       "1"
      ]
     },
     "metadata": {},
     "output_type": "display_data"
    },
    {
     "name": "stdout",
     "output_type": "stream",
     "text": [
      "m(+):\n"
     ]
    },
    {
     "data": {
      "text/latex": [
       "$\\displaystyle 0$"
      ],
      "text/plain": [
       "0"
      ]
     },
     "metadata": {},
     "output_type": "display_data"
    }
   ],
   "source": [
    "m1 = limit(fparabola_prime,x,0,'-')\n",
    "print(\"m(-):\")\n",
    "display(m1)\n",
    "\n",
    "m2 = limit(fcerchio_prime,x,0,'+')\n",
    "print(\"m(+):\")\n",
    "display(m2)"
   ]
  },
  {
   "cell_type": "code",
   "execution_count": 15,
   "id": "13235ab5",
   "metadata": {
    "scrolled": true
   },
   "outputs": [
    {
     "data": {
      "image/png": "[encoded data removed]",
      "text/plain": [
       "<Figure size 432x288 with 1 Axes>"
      ]
     },
     "metadata": {
      "needs_background": "light"
     },
     "output_type": "display_data"
    }
   ],
   "source": [
    "# Disegno le due tangenti\n",
    "P = (0,1)\n",
    "x0, y0 = P\n",
    "\n",
    "eq_tan_1 = m1*(x-x0) + y0\n",
    "eq_tan_2 = m2*(x-x0) + y0\n",
    "\n",
    "p1 = plot(f,(x,-2,2), show=False)\n",
    "p2 = plot(eq_tan_1,(x,-1/2,1/2), show=False)\n",
    "p3 = plot(eq_tan_2,(x,-1/2,1/2), show=False)\n",
    "p1.extend(p2)\n",
    "p1.extend(p3)\n",
    "\n",
    "p1.show()"
   ]
  },
  {
   "cell_type": "markdown",
   "id": "55f535a1",
   "metadata": {},
   "source": [
    "### Caso $x=1$"
   ]
  },
  {
   "cell_type": "code",
   "execution_count": 16,
   "id": "369953dd",
   "metadata": {},
   "outputs": [
    {
     "name": "stdout",
     "output_type": "stream",
     "text": [
      "m(-):\n"
     ]
    },
    {
     "data": {
      "text/latex": [
       "$\\displaystyle -\\infty$"
      ],
      "text/plain": [
       "-oo"
      ]
     },
     "metadata": {},
     "output_type": "display_data"
    },
    {
     "name": "stdout",
     "output_type": "stream",
     "text": [
      "m(+):\n"
     ]
    },
    {
     "data": {
      "text/latex": [
       "$\\displaystyle \\infty$"
      ],
      "text/plain": [
       "oo"
      ]
     },
     "metadata": {},
     "output_type": "display_data"
    }
   ],
   "source": [
    "m1 = limit(fcerchio_prime,x,1,'-')\n",
    "print(\"m(-):\")\n",
    "display(m1)\n",
    "\n",
    "m2 = limit(fiperbole_prime,x,1,'+')\n",
    "print(\"m(+):\")\n",
    "display(m2)"
   ]
  },
  {
   "cell_type": "code",
   "execution_count": 17,
   "id": "582dc725",
   "metadata": {},
   "outputs": [
    {
     "data": {
      "image/png": "[encoded data removed]",
      "text/plain": [
       "<Figure size 432x288 with 1 Axes>"
      ]
     },
     "metadata": {
      "needs_background": "light"
     },
     "output_type": "display_data"
    }
   ],
   "source": [
    "# Disegno le due tangenti\n",
    "p1 = plot(f,(x,-2,2), show=False)\n",
    "p2 = plot_implicit(Eq(x, 1), (x,0,2), (y,-1,1), show=False)\n",
    "p1.extend(p2)\n",
    "\n",
    "p1.show()"
   ]
  },
  {
   "cell_type": "markdown",
   "id": "affa7df4",
   "metadata": {},
   "source": [
    "### Caso $x=2$"
   ]
  },
  {
   "cell_type": "code",
   "execution_count": 18,
   "id": "8e3b28db",
   "metadata": {},
   "outputs": [
    {
     "name": "stdout",
     "output_type": "stream",
     "text": [
      "m:\n"
     ]
    },
    {
     "data": {
      "text/latex": [
       "$\\displaystyle \\frac{2 \\sqrt{3}}{3}$"
      ],
      "text/plain": [
       "2*sqrt(3)/3"
      ]
     },
     "metadata": {},
     "output_type": "display_data"
    },
    {
     "name": "stdout",
     "output_type": "stream",
     "text": [
      "Retta tangente:\n"
     ]
    },
    {
     "data": {
      "text/latex": [
       "$\\displaystyle \\frac{2 \\sqrt{3} \\left(x - 2\\right)}{3} + \\sqrt{3}$"
      ],
      "text/plain": [
       "2*sqrt(3)*(x - 2)/3 + sqrt(3)"
      ]
     },
     "execution_count": 18,
     "metadata": {},
     "output_type": "execute_result"
    }
   ],
   "source": [
    "m = fiperbole_prime.subs(x,2)\n",
    "print(\"m:\")\n",
    "display(m)\n",
    "\n",
    "P = (2,fiperbole.subs(x,2))\n",
    "x0, y0 = P\n",
    "\n",
    "eq_tan_4 = m*(x-x0) + y0\n",
    "print(\"Retta tangente:\")\n",
    "eq_tan_4"
   ]
  },
  {
   "cell_type": "code",
   "execution_count": 19,
   "id": "409085c8",
   "metadata": {},
   "outputs": [
    {
     "data": {
      "image/png": "[encoded data removed]",
      "text/plain": [
       "<Figure size 432x288 with 1 Axes>"
      ]
     },
     "metadata": {
      "needs_background": "light"
     },
     "output_type": "display_data"
    }
   ],
   "source": [
    "# Disegno\n",
    "p1 = plot(f,(x,-2,2), show=False)\n",
    "p2 = plot(eq_tan_4,(x,1,2), show=False)\n",
    "p1.extend(p2)\n",
    "\n",
    "p1.show()"
   ]
  },
  {
   "cell_type": "markdown",
   "id": "92cefaad",
   "metadata": {},
   "source": [
    "## B.1\n",
    "> A partire dal grafico della funzione $f$, dedurre quello della sua derivata $f'$"
   ]
  },
  {
   "cell_type": "code",
   "execution_count": 20,
   "id": "7c25ee06",
   "metadata": {},
   "outputs": [
    {
     "data": {
      "image/png": "[encoded data removed]",
      "text/plain": [
       "<Figure size 432x288 with 1 Axes>"
      ]
     },
     "metadata": {
      "needs_background": "light"
     },
     "output_type": "display_data"
    }
   ],
   "source": [
    "### Funzione derivata prima\n",
    "fprime = diff(f,x)\n",
    "p1 = plot(fparabola_prime,(x,-2,0), show=False, ylim=[-5,5])\n",
    "p2 = plot(fcerchio_prime,(x,0,1), show=False, ylim=[-5,5])\n",
    "p3 = plot(fiperbole_prime,(x,1,2), show=False, ylim=[-5,5])\n",
    "\n",
    "p1.extend(p2)\n",
    "p1.extend(p3)\n",
    "p1.show()"
   ]
  },
  {
   "cell_type": "markdown",
   "id": "196a6469",
   "metadata": {},
   "source": [
    "## B.2\n",
    "> Individuare gli intervalli di concavità e convessità di $F(x)=\\int_{-2}^{x}f(t)dt$"
   ]
  },
  {
   "cell_type": "code",
   "execution_count": 21,
   "id": "1cc01555",
   "metadata": {},
   "outputs": [
    {
     "data": {
      "text/latex": [
       "$\\displaystyle \\left(-2, 0\\right]$"
      ],
      "text/plain": [
       "Interval.Lopen(-2, 0)"
      ]
     },
     "execution_count": 21,
     "metadata": {},
     "output_type": "execute_result"
    }
   ],
   "source": [
    "# Parabola > 0\n",
    "sol = solveset(fparabola_prime>0, x, S.Reals)\n",
    "sol = sol.intersect(Interval(-2,0))\n",
    "sol"
   ]
  },
  {
   "cell_type": "code",
   "execution_count": 22,
   "id": "77993925",
   "metadata": {},
   "outputs": [
    {
     "data": {
      "text/latex": [
       "$\\displaystyle \\left(0, 1\\right)$"
      ],
      "text/plain": [
       "Interval.open(0, 1)"
      ]
     },
     "execution_count": 22,
     "metadata": {},
     "output_type": "execute_result"
    }
   ],
   "source": [
    "# Cerchio < 0\n",
    "sol = solveset(fcerchio_prime<0, x, S.Reals)\n",
    "sol = sol.intersect(Interval(0,1))\n",
    "sol"
   ]
  },
  {
   "cell_type": "code",
   "execution_count": 23,
   "id": "90e3b2e3",
   "metadata": {},
   "outputs": [
    {
     "data": {
      "text/latex": [
       "$\\displaystyle \\left(1, 2\\right]$"
      ],
      "text/plain": [
       "Interval.Lopen(1, 2)"
      ]
     },
     "execution_count": 23,
     "metadata": {},
     "output_type": "execute_result"
    }
   ],
   "source": [
    "# Iperbole > 0\n",
    "sol = solveset(fiperbole_prime>0, x, S.Reals)\n",
    "sol = sol.intersect(Interval(1,2))\n",
    "sol"
   ]
  },
  {
   "cell_type": "markdown",
   "id": "9fbae1e8",
   "metadata": {},
   "source": [
    "## C.1\n",
    "> Si consideri la funzione $y={1\\over 4}(x+2)^2$, definita nell'intervallo $[-2,0]$ di cui $\\Gamma_1$ è il suo grafico rappresentativo. Spiegare perché essa è invertibile e scrivere l'espressione analitica della sua funzione inversa $h$."
   ]
  },
  {
   "cell_type": "code",
   "execution_count": 24,
   "id": "afa91f05",
   "metadata": {},
   "outputs": [
    {
     "data": {
      "image/png": "[encoded data removed]",
      "text/plain": [
       "<Figure size 432x288 with 1 Axes>"
      ]
     },
     "metadata": {
      "needs_background": "light"
     },
     "output_type": "display_data"
    },
    {
     "data": {
      "text/plain": [
       "<sympy.plotting.plot.Plot at 0x13b0432c310>"
      ]
     },
     "execution_count": 24,
     "metadata": {},
     "output_type": "execute_result"
    }
   ],
   "source": [
    "plot(fparabola,(x,-2,0))"
   ]
  },
  {
   "cell_type": "markdown",
   "id": "e27357fc",
   "metadata": {},
   "source": [
    "## C.2\n",
    "> Studiare la derivabilità di $h$ e tracciarne il grafico."
   ]
  },
  {
   "cell_type": "code",
   "execution_count": 25,
   "id": "3acb2ebc",
   "metadata": {},
   "outputs": [
    {
     "data": {
      "text/plain": [
       "[-2*sqrt(y) - 2, 2*sqrt(y) - 2]"
      ]
     },
     "metadata": {},
     "output_type": "display_data"
    },
    {
     "data": {
      "text/latex": [
       "$\\displaystyle 2 \\sqrt{x} - 2$"
      ],
      "text/plain": [
       "2*sqrt(x) - 2"
      ]
     },
     "metadata": {},
     "output_type": "display_data"
    }
   ],
   "source": [
    "parinvs = solve(Eq(y,fparabola),x)\n",
    "display(parinvs)\n",
    "# Domionio [0,1]\n",
    "parinv = parinvs[1].subs(y,x)\n",
    "display(parinv)"
   ]
  },
  {
   "cell_type": "code",
   "execution_count": 26,
   "id": "371184b0",
   "metadata": {},
   "outputs": [
    {
     "data": {
      "text/latex": [
       "$\\displaystyle \\frac{1}{\\sqrt{x}}$"
      ],
      "text/plain": [
       "1/sqrt(x)"
      ]
     },
     "metadata": {},
     "output_type": "display_data"
    }
   ],
   "source": [
    "# Disegno della derivata dell'inversa\n",
    "parinvder = diff(parinv,x)\n",
    "display(parinvder)"
   ]
  },
  {
   "cell_type": "code",
   "execution_count": 27,
   "id": "c0ed04a8",
   "metadata": {},
   "outputs": [
    {
     "data": {
      "image/png": "[encoded data removed]",
      "text/plain": [
       "<Figure size 432x288 with 1 Axes>"
      ]
     },
     "metadata": {
      "needs_background": "light"
     },
     "output_type": "display_data"
    }
   ],
   "source": [
    "# disegno\n",
    "p1 = plot(fparabola,(x,-2,0), show=False,aspect_ratio=(1.,1.))\n",
    "p2 = plot(parinv,(x,0,1), show=False,aspect_ratio=(1.,1.))\n",
    "p3 = plot(x,(x,-2,1), show=False,aspect_ratio=(1.,1.))\n",
    "\n",
    "p1.extend(p2)\n",
    "p1.extend(p3)\n",
    "p1.show()"
   ]
  },
  {
   "cell_type": "markdown",
   "id": "4d4d91d8",
   "metadata": {},
   "source": [
    "## D\n",
    "> Sia $S$ la regione limitata del secondo quadrante, compresa tra il grafico di $\\Gamma_1$ e gli assi cartesiani. Determinare il valore del parametro reale $k$ affinché la retta di equazione $x=k$ divida $S$ in due regioni equivalenti."
   ]
  },
  {
   "cell_type": "code",
   "execution_count": 28,
   "id": "ad816dd0",
   "metadata": {},
   "outputs": [
    {
     "data": {
      "image/png": "[encoded data removed]",
      "text/plain": [
       "<Figure size 432x288 with 1 Axes>"
      ]
     },
     "metadata": {
      "needs_background": "light"
     },
     "output_type": "display_data"
    },
    {
     "data": {
      "text/plain": [
       "<sympy.plotting.plot.Plot at 0x13b6a04ef40>"
      ]
     },
     "execution_count": 28,
     "metadata": {},
     "output_type": "execute_result"
    }
   ],
   "source": [
    "plot_implicit(And(y<fparabola,y >0),(x,-2,0))"
   ]
  },
  {
   "cell_type": "code",
   "execution_count": 29,
   "id": "740bce34",
   "metadata": {},
   "outputs": [
    {
     "data": {
      "text/latex": [
       "$\\displaystyle \\frac{2}{3}$"
      ],
      "text/plain": [
       "2/3"
      ]
     },
     "execution_count": 29,
     "metadata": {},
     "output_type": "execute_result"
    }
   ],
   "source": [
    "# Area\n",
    "A = integrate(fparabola, (x,-2,0))\n",
    "A"
   ]
  },
  {
   "cell_type": "code",
   "execution_count": 30,
   "id": "30aeab9b",
   "metadata": {},
   "outputs": [],
   "source": [
    "k = symbols('k', real=True)"
   ]
  },
  {
   "cell_type": "code",
   "execution_count": 31,
   "id": "81f102ab",
   "metadata": {},
   "outputs": [
    {
     "data": {
      "text/latex": [
       "$\\displaystyle \\frac{k^{3}}{12} + \\frac{k^{2}}{2} + k + \\frac{2}{3}$"
      ],
      "text/plain": [
       "k**3/12 + k**2/2 + k + 2/3"
      ]
     },
     "metadata": {},
     "output_type": "display_data"
    },
    {
     "data": {
      "text/plain": [
       "[-2 + 2**(2/3)]"
      ]
     },
     "execution_count": 31,
     "metadata": {},
     "output_type": "execute_result"
    }
   ],
   "source": [
    "Ak = integrate(fparabola, (x,-2,k))\n",
    "display(Ak)\n",
    "\n",
    "solve(Eq(Ak,A/2))"
   ]
  },
  {
   "cell_type": "code",
   "execution_count": null,
   "id": "30d8c6d5",
   "metadata": {},
   "outputs": [],
   "source": []
  }
 ],
 "metadata": {
  "kernelspec": {
   "display_name": "Python 3 (ipykernel)",
   "language": "python",
   "name": "python3"
  },
  "language_info": {
   "codemirror_mode": {
    "name": "ipython",
    "version": 3
   },
   "file_extension": ".py",
   "mimetype": "text/x-python",
   "name": "python",
   "nbconvert_exporter": "python",
   "pygments_lexer": "ipython3",
   "version": "3.9.10"
  }
 },
 "nbformat": 4,
 "nbformat_minor": 5
}
