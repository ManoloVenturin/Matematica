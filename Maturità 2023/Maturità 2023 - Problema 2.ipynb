{
 "cells": [
  {
   "cell_type": "markdown",
   "id": "73c806bb",
   "metadata": {},
   "source": [
    "# Maturità 2023 - Problema 2"
   ]
  },
  {
   "cell_type": "markdown",
   "id": "46b5b130",
   "metadata": {},
   "source": [
    "![TESTO PROBLEMA 2](testo_problema2.png)"
   ]
  },
  {
   "cell_type": "code",
   "execution_count": 1,
   "id": "2fed84e5",
   "metadata": {},
   "outputs": [
    {
     "data": {
      "text/latex": [
       "$\\displaystyle \\frac{- a x + x^{2}}{- a + x^{2}}$"
      ],
      "text/plain": [
       "(-a*x + x**2)/(-a + x**2)"
      ]
     },
     "metadata": {},
     "output_type": "display_data"
    }
   ],
   "source": [
    "# Toolbox simbolico\n",
    "from sympy import *\n",
    "\n",
    "x = symbols('x', real=True)\n",
    "a = symbols('a', real=True)\n",
    "\n",
    "fnum = x**2-a*x\n",
    "fden = x**2-a\n",
    "fa = fnum/fden\n",
    "display(fa)"
   ]
  },
  {
   "cell_type": "markdown",
   "id": "c1ec9907",
   "metadata": {},
   "source": [
    "## A\n",
    "> Fissato un parametro $a$, con $a\\ne0$, si consideri la funzione $f_a$ così definita $$f_a(x)={x^2-ax\\over x^2-a}$$ il cui grafico sarà indicato con $\\Omega_a$.\n",
    ">\n",
    "> Al variare del parametro $a$, determinare il dominio di $f_a$, studiarne le eventuali discontinuità e scrivere le equazioni di tutti i suoi asintoti"
   ]
  },
  {
   "cell_type": "markdown",
   "id": "c3941441",
   "metadata": {},
   "source": [
    "### Dominio"
   ]
  },
  {
   "cell_type": "code",
   "execution_count": 2,
   "id": "feea2365",
   "metadata": {},
   "outputs": [
    {
     "data": {
      "text/plain": [
       "[-sqrt(a), sqrt(a)]"
      ]
     },
     "execution_count": 2,
     "metadata": {},
     "output_type": "execute_result"
    }
   ],
   "source": [
    "solve(fden,x)"
   ]
  },
  {
   "cell_type": "markdown",
   "id": "eb317a54",
   "metadata": {},
   "source": [
    "### Limiti all'infinito (asintoti orizzontali)"
   ]
  },
  {
   "cell_type": "code",
   "execution_count": 3,
   "id": "467f2c89",
   "metadata": {},
   "outputs": [
    {
     "data": {
      "text/latex": [
       "$\\displaystyle 1$"
      ],
      "text/plain": [
       "1"
      ]
     },
     "metadata": {},
     "output_type": "display_data"
    },
    {
     "data": {
      "text/latex": [
       "$\\displaystyle 1$"
      ],
      "text/plain": [
       "1"
      ]
     },
     "metadata": {},
     "output_type": "display_data"
    }
   ],
   "source": [
    "display(limit(fa,x,'-oo'))\n",
    "display(limit(fa,x,'+oo'))"
   ]
  },
  {
   "cell_type": "code",
   "execution_count": 4,
   "id": "e719795d",
   "metadata": {},
   "outputs": [
    {
     "data": {
      "text/latex": [
       "$\\displaystyle 1$"
      ],
      "text/plain": [
       "1"
      ]
     },
     "execution_count": 4,
     "metadata": {},
     "output_type": "execute_result"
    }
   ],
   "source": [
    "# Eq asintoto orizzontale\n",
    "yorizzontale = 1+0*x\n",
    "yorizzontale"
   ]
  },
  {
   "cell_type": "markdown",
   "id": "655d7964",
   "metadata": {},
   "source": [
    "### Limiti al finito  (asintoti verticali)"
   ]
  },
  {
   "cell_type": "code",
   "execution_count": 5,
   "id": "02b4a073",
   "metadata": {},
   "outputs": [
    {
     "data": {
      "text/latex": [
       "$\\displaystyle - \\infty \\operatorname{sign}{\\left(\\frac{a^{\\frac{3}{2}} + a}{\\sqrt{a}} \\right)}$"
      ],
      "text/plain": [
       "-oo*sign((a**(3/2) + a)/sqrt(a))"
      ]
     },
     "metadata": {},
     "output_type": "display_data"
    },
    {
     "data": {
      "text/latex": [
       "$\\displaystyle \\infty \\operatorname{sign}{\\left(\\frac{- a^{\\frac{3}{2}} + a}{\\sqrt{a}} \\right)}$"
      ],
      "text/plain": [
       "oo*sign((-a**(3/2) + a)/sqrt(a))"
      ]
     },
     "metadata": {},
     "output_type": "display_data"
    }
   ],
   "source": [
    "display(limit(fa,x,-sqrt(a)))\n",
    "display(limit(fa,x,+sqrt(a)))"
   ]
  },
  {
   "cell_type": "code",
   "execution_count": 6,
   "id": "656167fc",
   "metadata": {},
   "outputs": [
    {
     "data": {
      "text/latex": [
       "$\\displaystyle \\frac{a^{\\frac{3}{2}} + a}{\\sqrt{a}}$"
      ],
      "text/plain": [
       "(a**(3/2) + a)/sqrt(a)"
      ]
     },
     "metadata": {},
     "output_type": "display_data"
    },
    {
     "data": {
      "text/plain": [
       "[0]"
      ]
     },
     "execution_count": 6,
     "metadata": {},
     "output_type": "execute_result"
    }
   ],
   "source": [
    "acrit = (a*sqrt(a)+a)/sqrt(a)\n",
    "display(acrit)\n",
    "solve(simplify(acrit),a)"
   ]
  },
  {
   "cell_type": "markdown",
   "id": "b696ff8d",
   "metadata": {},
   "source": [
    "Non è accettabile perché $a\\ne0$"
   ]
  },
  {
   "cell_type": "code",
   "execution_count": 7,
   "id": "5efa0e50",
   "metadata": {},
   "outputs": [
    {
     "data": {
      "text/latex": [
       "$\\displaystyle \\frac{- a^{\\frac{3}{2}} + a}{\\sqrt{a}}$"
      ],
      "text/plain": [
       "(-a**(3/2) + a)/sqrt(a)"
      ]
     },
     "metadata": {},
     "output_type": "display_data"
    },
    {
     "data": {
      "text/plain": [
       "[0, 1]"
      ]
     },
     "execution_count": 7,
     "metadata": {},
     "output_type": "execute_result"
    }
   ],
   "source": [
    "acrit = (-a*sqrt(a)+a)/sqrt(a)\n",
    "display(acrit)\n",
    "solve(simplify(acrit),a)"
   ]
  },
  {
   "cell_type": "markdown",
   "id": "bc70875e",
   "metadata": {},
   "source": [
    "Si accetta la soluzione $a=1$"
   ]
  },
  {
   "cell_type": "code",
   "execution_count": 8,
   "id": "15505cf0",
   "metadata": {},
   "outputs": [
    {
     "data": {
      "text/plain": [
       "1"
      ]
     },
     "execution_count": 8,
     "metadata": {},
     "output_type": "execute_result"
    }
   ],
   "source": [
    "acrit = 1\n",
    "acrit"
   ]
  },
  {
   "cell_type": "markdown",
   "id": "6bc2f966",
   "metadata": {},
   "source": [
    "### Caso $a<0$\n",
    "Facciamo un esempio di grafico per diversi valori di $a$"
   ]
  },
  {
   "cell_type": "code",
   "execution_count": 9,
   "id": "1ed4e84f",
   "metadata": {},
   "outputs": [],
   "source": [
    "falist = [fa.subs(a,avalue) for avalue in [-10,-5,-1,-1/2]]"
   ]
  },
  {
   "cell_type": "code",
   "execution_count": 10,
   "id": "c8e474c3",
   "metadata": {},
   "outputs": [
    {
     "data": {
      "image/png": "[encoded data removed]",
      "text/plain": [
       "<Figure size 432x288 with 1 Axes>"
      ]
     },
     "metadata": {
      "needs_background": "light"
     },
     "output_type": "display_data"
    }
   ],
   "source": [
    "plist = [plot(faexpr, (x,-10,10), show=False) for faexpr in falist]\n",
    "\n",
    "for i in range(1,len(plist)):\n",
    "    plist[0].extend(plist[i])\n",
    "    \n",
    "plist[0].show()"
   ]
  },
  {
   "cell_type": "markdown",
   "id": "1531517c",
   "metadata": {},
   "source": [
    "### Caso $a=1$\n",
    "Facciamo il grafico"
   ]
  },
  {
   "cell_type": "code",
   "execution_count": 11,
   "id": "7d3fe36d",
   "metadata": {},
   "outputs": [
    {
     "data": {
      "image/png": "[encoded data removed]",
      "text/plain": [
       "<Figure size 432x288 with 1 Axes>"
      ]
     },
     "metadata": {
      "needs_background": "light"
     },
     "output_type": "display_data"
    },
    {
     "data": {
      "text/plain": [
       "<sympy.plotting.plot.Plot at 0x1f5e49e3eb0>"
      ]
     },
     "execution_count": 11,
     "metadata": {},
     "output_type": "execute_result"
    }
   ],
   "source": [
    "plot(fa.subs(a,1), (x,-10,10),ylim=[-5,5])"
   ]
  },
  {
   "cell_type": "markdown",
   "id": "901e6d79",
   "metadata": {},
   "source": [
    "### Caso $a>0$\n",
    "Facciamo un esempio di grafico per diversi valori di $a$"
   ]
  },
  {
   "cell_type": "code",
   "execution_count": 12,
   "id": "acd7a04d",
   "metadata": {},
   "outputs": [],
   "source": [
    "falist = [fa.subs(a,avalue) for avalue in [1/2,1/4]]"
   ]
  },
  {
   "cell_type": "code",
   "execution_count": 13,
   "id": "d5146af2",
   "metadata": {},
   "outputs": [
    {
     "data": {
      "image/png": "[encoded data removed]",
      "text/plain": [
       "<Figure size 432x288 with 1 Axes>"
      ]
     },
     "metadata": {
      "needs_background": "light"
     },
     "output_type": "display_data"
    }
   ],
   "source": [
    "plist = [plot(faexpr, (x,-3,3), show=False,ylim=[-5,5]) for faexpr in falist]\n",
    "\n",
    "for i in range(1,len(plist)):\n",
    "    plist[0].extend(plist[i])\n",
    "    \n",
    "plist[0].show()"
   ]
  },
  {
   "cell_type": "code",
   "execution_count": 14,
   "id": "a3ed0cd0",
   "metadata": {},
   "outputs": [],
   "source": [
    "falist = [fa.subs(a,avalue) for avalue in [2,4]]"
   ]
  },
  {
   "cell_type": "code",
   "execution_count": 15,
   "id": "27cf3af9",
   "metadata": {},
   "outputs": [
    {
     "data": {
      "image/png": "[encoded data removed]",
      "text/plain": [
       "<Figure size 432x288 with 1 Axes>"
      ]
     },
     "metadata": {
      "needs_background": "light"
     },
     "output_type": "display_data"
    }
   ],
   "source": [
    "plist = [plot(faexpr, (x,-5,5), show=False,ylim=[-5,5]) for faexpr in falist]\n",
    "\n",
    "for i in range(1,len(plist)):\n",
    "    plist[0].extend(plist[i])\n",
    "    \n",
    "plist[0].show()"
   ]
  },
  {
   "cell_type": "markdown",
   "id": "aae04a0d",
   "metadata": {},
   "source": [
    "## B.1\n",
    "> Mostrare che, per $a\\ne 1$, tutti i grafici di $\\Omega_a$ intersecano il proprio asintoto orizzontale in uno stesso punto."
   ]
  },
  {
   "cell_type": "code",
   "execution_count": 16,
   "id": "f95718d2",
   "metadata": {},
   "outputs": [
    {
     "data": {
      "text/plain": [
       "[1]"
      ]
     },
     "execution_count": 16,
     "metadata": {},
     "output_type": "execute_result"
    }
   ],
   "source": [
    "solve(Eq(fa,yorizzontale),x)"
   ]
  },
  {
   "cell_type": "markdown",
   "id": "e7492997",
   "metadata": {},
   "source": [
    "## B.2\n",
    "> Mostrare che, per $a\\ne 1$, tutti i grafici di $\\Omega_a$ condividono la stessa retta tangente nell'origine."
   ]
  },
  {
   "cell_type": "markdown",
   "id": "61d4902d",
   "metadata": {},
   "source": [
    "### Derivata prima"
   ]
  },
  {
   "cell_type": "code",
   "execution_count": 17,
   "id": "f78da2d8",
   "metadata": {},
   "outputs": [
    {
     "data": {
      "text/latex": [
       "$\\displaystyle \\frac{a \\left(a + x^{2} - 2 x\\right)}{\\left(- a + x^{2}\\right)^{2}}$"
      ],
      "text/plain": [
       "a*(a + x**2 - 2*x)/(-a + x**2)**2"
      ]
     },
     "metadata": {},
     "output_type": "display_data"
    }
   ],
   "source": [
    "faprime = factor(simplify(diff(fa,x)))\n",
    "display(faprime)"
   ]
  },
  {
   "cell_type": "code",
   "execution_count": 18,
   "id": "e297c5bd",
   "metadata": {},
   "outputs": [
    {
     "data": {
      "text/latex": [
       "$\\displaystyle 1$"
      ],
      "text/plain": [
       "1"
      ]
     },
     "execution_count": 18,
     "metadata": {},
     "output_type": "execute_result"
    }
   ],
   "source": [
    "# Derivata in 0\n",
    "m = faprime.subs(x,0)\n",
    "m"
   ]
  },
  {
   "cell_type": "code",
   "execution_count": 19,
   "id": "d395e16a",
   "metadata": {},
   "outputs": [
    {
     "data": {
      "text/plain": [
       "(0, 0)"
      ]
     },
     "metadata": {},
     "output_type": "display_data"
    }
   ],
   "source": [
    "# Punto di passaggio in 0\n",
    "x0 = 0\n",
    "y0 = fa.subs(x,x0)\n",
    "display((x0,y0))"
   ]
  },
  {
   "cell_type": "markdown",
   "id": "9f36e425",
   "metadata": {},
   "source": [
    "## C.1\n",
    "> Al variare di $a<1$, individuare gli intervalli di monotonia della funzione $f_a$. \n",
    "\n",
    "(Eseguiamo lo studio della derivata prima al variare di $a$)"
   ]
  },
  {
   "cell_type": "code",
   "execution_count": 20,
   "id": "fe426f0b",
   "metadata": {},
   "outputs": [
    {
     "data": {
      "text/latex": [
       "$\\displaystyle \\frac{a \\left(a + x^{2} - 2 x\\right)}{\\left(- a + x^{2}\\right)^{2}}$"
      ],
      "text/plain": [
       "a*(a + x**2 - 2*x)/(-a + x**2)**2"
      ]
     },
     "execution_count": 20,
     "metadata": {},
     "output_type": "execute_result"
    }
   ],
   "source": [
    "faprime"
   ]
  },
  {
   "cell_type": "code",
   "execution_count": 21,
   "id": "eef21445",
   "metadata": {},
   "outputs": [
    {
     "data": {
      "text/plain": [
       "(a, (-a + x**2)**(-2), a + x**2 - 2*x)"
      ]
     },
     "execution_count": 21,
     "metadata": {},
     "output_type": "execute_result"
    }
   ],
   "source": [
    "aterms = faprime.args\n",
    "aterms"
   ]
  },
  {
   "cell_type": "code",
   "execution_count": 22,
   "id": "645ba2a2",
   "metadata": {},
   "outputs": [
    {
     "data": {
      "text/plain": [
       "[1 - sqrt(1 - a), sqrt(1 - a) + 1]"
      ]
     },
     "execution_count": 22,
     "metadata": {},
     "output_type": "execute_result"
    }
   ],
   "source": [
    "# Zeri del numeratore\n",
    "solve(aterms[2],x)"
   ]
  },
  {
   "cell_type": "markdown",
   "id": "0c83af1c",
   "metadata": {},
   "source": [
    "### Caso $a<0$ (esempio di plot con la sua derivata prima)"
   ]
  },
  {
   "cell_type": "code",
   "execution_count": 23,
   "id": "8d8d9d38",
   "metadata": {},
   "outputs": [
    {
     "data": {
      "image/png": "[encoded data removed]",
      "text/plain": [
       "<Figure size 432x288 with 1 Axes>"
      ]
     },
     "metadata": {
      "needs_background": "light"
     },
     "output_type": "display_data"
    }
   ],
   "source": [
    "p1 = plot(fa.subs(a,-2),(x,-20,20),show=False)\n",
    "p2 = plot(yorizzontale,(x,-20,20),show=False)\n",
    "\n",
    "p1.extend(p2)\n",
    "p1.show()"
   ]
  },
  {
   "cell_type": "code",
   "execution_count": 24,
   "id": "f07944be",
   "metadata": {},
   "outputs": [
    {
     "data": {
      "image/png": "[encoded data removed]",
      "text/plain": [
       "<Figure size 432x288 with 1 Axes>"
      ]
     },
     "metadata": {
      "needs_background": "light"
     },
     "output_type": "display_data"
    },
    {
     "data": {
      "text/plain": [
       "<sympy.plotting.plot.Plot at 0x1f5fecd6af0>"
      ]
     },
     "execution_count": 24,
     "metadata": {},
     "output_type": "execute_result"
    }
   ],
   "source": [
    "plot(faprime.subs(a,-2),(x,-10,10))"
   ]
  },
  {
   "cell_type": "markdown",
   "id": "08c23e2e",
   "metadata": {},
   "source": [
    "### Caso $0<a<1$ (esempio di plot con la sua derivata prima)"
   ]
  },
  {
   "cell_type": "code",
   "execution_count": 25,
   "id": "0e1d49a1",
   "metadata": {},
   "outputs": [
    {
     "data": {
      "image/png": "[encoded data removed]",
      "text/plain": [
       "<Figure size 432x288 with 1 Axes>"
      ]
     },
     "metadata": {
      "needs_background": "light"
     },
     "output_type": "display_data"
    }
   ],
   "source": [
    "p1 = plot(fa.subs(a,1/2),(x,-3,3),show=False,ylim=[-5,5])\n",
    "p2 = plot(yorizzontale,(x,-3,3),show=False,ylim=[-5,5])\n",
    "\n",
    "p1.extend(p2)\n",
    "p1.show()"
   ]
  },
  {
   "cell_type": "code",
   "execution_count": 26,
   "id": "9aac4b96",
   "metadata": {},
   "outputs": [
    {
     "data": {
      "image/png": "[encoded data removed]",
      "text/plain": [
       "<Figure size 432x288 with 1 Axes>"
      ]
     },
     "metadata": {
      "needs_background": "light"
     },
     "output_type": "display_data"
    },
    {
     "data": {
      "text/plain": [
       "<sympy.plotting.plot.Plot at 0x1f5fecdc3a0>"
      ]
     },
     "execution_count": 26,
     "metadata": {},
     "output_type": "execute_result"
    }
   ],
   "source": [
    "plot(faprime.subs(a,1/2),(x,-3,3),ylim=[-8,8])"
   ]
  },
  {
   "cell_type": "markdown",
   "id": "11a4ddcc",
   "metadata": {},
   "source": [
    "## C.2\n",
    "> Studiare la funzione $f_{-1}(x)$ e tracciare il grafico di $\\Omega_{-1}$."
   ]
  },
  {
   "cell_type": "code",
   "execution_count": 27,
   "id": "33ce4bad",
   "metadata": {},
   "outputs": [
    {
     "data": {
      "text/latex": [
       "$\\displaystyle \\frac{x^{2} + x}{x^{2} + 1}$"
      ],
      "text/plain": [
       "(x**2 + x)/(x**2 + 1)"
      ]
     },
     "execution_count": 27,
     "metadata": {},
     "output_type": "execute_result"
    }
   ],
   "source": [
    "fm1 = fa.subs(a,-1)\n",
    "fm1"
   ]
  },
  {
   "cell_type": "code",
   "execution_count": 28,
   "id": "7948b693",
   "metadata": {},
   "outputs": [
    {
     "data": {
      "text/latex": [
       "$\\displaystyle 0 < x \\vee x < -1$"
      ],
      "text/plain": [
       "(0 < x) | (x < -1)"
      ]
     },
     "execution_count": 28,
     "metadata": {},
     "output_type": "execute_result"
    }
   ],
   "source": [
    "solve(fm1>0,x)"
   ]
  },
  {
   "cell_type": "code",
   "execution_count": 29,
   "id": "cb9029d5",
   "metadata": {},
   "outputs": [
    {
     "data": {
      "text/latex": [
       "$\\displaystyle - \\frac{x^{2} - 2 x - 1}{\\left(x^{2} + 1\\right)^{2}}$"
      ],
      "text/plain": [
       "-(x**2 - 2*x - 1)/(x**2 + 1)**2"
      ]
     },
     "execution_count": 29,
     "metadata": {},
     "output_type": "execute_result"
    }
   ],
   "source": [
    "fm1prime = faprime.subs(a,-1)\n",
    "fm1prime"
   ]
  },
  {
   "cell_type": "code",
   "execution_count": 30,
   "id": "3e2dddfc",
   "metadata": {},
   "outputs": [
    {
     "data": {
      "text/plain": [
       "[1 - sqrt(2), 1 + sqrt(2)]"
      ]
     },
     "metadata": {},
     "output_type": "display_data"
    },
    {
     "data": {
      "text/latex": [
       "$\\displaystyle 1 - \\sqrt{2}$"
      ],
      "text/plain": [
       "1 - sqrt(2)"
      ]
     },
     "metadata": {},
     "output_type": "display_data"
    },
    {
     "data": {
      "text/latex": [
       "$\\displaystyle - \\frac{-1 + \\sqrt{2}}{2}$"
      ],
      "text/plain": [
       "-(-1 + sqrt(2))/2"
      ]
     },
     "metadata": {},
     "output_type": "display_data"
    },
    {
     "data": {
      "text/latex": [
       "$\\displaystyle 1 + \\sqrt{2}$"
      ],
      "text/plain": [
       "1 + sqrt(2)"
      ]
     },
     "metadata": {},
     "output_type": "display_data"
    },
    {
     "data": {
      "text/latex": [
       "$\\displaystyle \\frac{1 + \\sqrt{2}}{2}$"
      ],
      "text/plain": [
       "(1 + sqrt(2))/2"
      ]
     },
     "metadata": {},
     "output_type": "display_data"
    }
   ],
   "source": [
    "sols = solve(fm1prime,x)\n",
    "display(sols)\n",
    "\n",
    "for sol in sols:\n",
    "    display(sol)\n",
    "    display(factor(simplify(fm1.subs(x,sol))))"
   ]
  },
  {
   "cell_type": "code",
   "execution_count": 31,
   "id": "4f1d9b12",
   "metadata": {},
   "outputs": [
    {
     "data": {
      "text/latex": [
       "$\\displaystyle \\frac{4 x \\left(x^{2} - 2 x - 1\\right)}{\\left(x^{2} + 1\\right)^{3}} - \\frac{2 x - 2}{\\left(x^{2} + 1\\right)^{2}}$"
      ],
      "text/plain": [
       "4*x*(x**2 - 2*x - 1)/(x**2 + 1)**3 - (2*x - 2)/(x**2 + 1)**2"
      ]
     },
     "metadata": {},
     "output_type": "display_data"
    },
    {
     "data": {
      "text/latex": [
       "$\\displaystyle \\frac{2 x^{3}}{x^{6} + 3 x^{4} + 3 x^{2} + 1} - \\frac{6 x^{2}}{x^{6} + 3 x^{4} + 3 x^{2} + 1} - \\frac{6 x}{x^{6} + 3 x^{4} + 3 x^{2} + 1} + \\frac{2}{x^{6} + 3 x^{4} + 3 x^{2} + 1}$"
      ],
      "text/plain": [
       "2*x**3/(x**6 + 3*x**4 + 3*x**2 + 1) - 6*x**2/(x**6 + 3*x**4 + 3*x**2 + 1) - 6*x/(x**6 + 3*x**4 + 3*x**2 + 1) + 2/(x**6 + 3*x**4 + 3*x**2 + 1)"
      ]
     },
     "metadata": {},
     "output_type": "display_data"
    },
    {
     "data": {
      "text/latex": [
       "$\\displaystyle \\frac{2 \\left(x + 1\\right) \\left(x^{2} - 4 x + 1\\right)}{\\left(x^{2} + 1\\right)^{3}}$"
      ],
      "text/plain": [
       "2*(x + 1)*(x**2 - 4*x + 1)/(x**2 + 1)**3"
      ]
     },
     "execution_count": 31,
     "metadata": {},
     "output_type": "execute_result"
    }
   ],
   "source": [
    "fm1der2 = diff(fm1prime,x)\n",
    "display(fm1der2)\n",
    "fm1der2 = simplify(fm1der2)\n",
    "display(expand(fm1der2))\n",
    "fm1der2 = factor(fm1der2)\n",
    "fm1der2"
   ]
  },
  {
   "cell_type": "code",
   "execution_count": 32,
   "id": "bed71ca3",
   "metadata": {},
   "outputs": [
    {
     "data": {
      "text/plain": [
       "[-1, 2 - sqrt(3), sqrt(3) + 2]"
      ]
     },
     "execution_count": 32,
     "metadata": {},
     "output_type": "execute_result"
    }
   ],
   "source": [
    "solve(fm1der2,x)"
   ]
  },
  {
   "cell_type": "code",
   "execution_count": 33,
   "id": "e386de91",
   "metadata": {},
   "outputs": [
    {
     "data": {
      "text/latex": [
       "$\\displaystyle \\left(-1 < x \\wedge x < 2 - \\sqrt{3}\\right) \\vee \\sqrt{3} + 2 < x$"
      ],
      "text/plain": [
       "(sqrt(3) + 2 < x) | ((-1 < x) & (x < 2 - sqrt(3)))"
      ]
     },
     "execution_count": 33,
     "metadata": {},
     "output_type": "execute_result"
    }
   ],
   "source": [
    "solve(fm1der2>0,x)"
   ]
  },
  {
   "cell_type": "code",
   "execution_count": 34,
   "id": "f9fe9fc6",
   "metadata": {},
   "outputs": [
    {
     "data": {
      "image/png": "[encoded data removed]",
      "text/plain": [
       "<Figure size 432x288 with 1 Axes>"
      ]
     },
     "metadata": {
      "needs_background": "light"
     },
     "output_type": "display_data"
    },
    {
     "data": {
      "text/plain": [
       "<sympy.plotting.plot.Plot at 0x1f5fead2e80>"
      ]
     },
     "execution_count": 34,
     "metadata": {},
     "output_type": "execute_result"
    }
   ],
   "source": [
    "plot(fm1der2,(x,-5,5))"
   ]
  },
  {
   "cell_type": "code",
   "execution_count": 35,
   "id": "3557b147",
   "metadata": {},
   "outputs": [
    {
     "data": {
      "image/png": "[encoded data removed]",
      "text/plain": [
       "<Figure size 432x288 with 1 Axes>"
      ]
     },
     "metadata": {
      "needs_background": "light"
     },
     "output_type": "display_data"
    }
   ],
   "source": [
    "p1 = plot(fm1,(x,-20,20),show=False)\n",
    "p2 = plot(yorizzontale,(x,-20,20),show=False)\n",
    "\n",
    "p1.extend(p2)\n",
    "p1.show()"
   ]
  },
  {
   "cell_type": "markdown",
   "id": "d9524dea",
   "metadata": {},
   "source": [
    "## D\n",
    "> Determinare l'area della regione limitata compresa tra il grafico di $\\Omega_{-1}$, la retta ad esso tangente nell'origine e la retta $x=\\sqrt{3}$"
   ]
  },
  {
   "cell_type": "code",
   "execution_count": 36,
   "id": "622fd0dc",
   "metadata": {},
   "outputs": [],
   "source": [
    "# Retta tangente nell'origine (già vista prima)\n",
    "ytan0 = x"
   ]
  },
  {
   "cell_type": "code",
   "execution_count": 37,
   "id": "d7d4f248",
   "metadata": {},
   "outputs": [
    {
     "data": {
      "image/png": "[encoded data removed]",
      "text/plain": [
       "<Figure size 432x288 with 1 Axes>"
      ]
     },
     "metadata": {
      "needs_background": "light"
     },
     "output_type": "display_data"
    }
   ],
   "source": [
    "p1 = plot(fm1,(x,-1/2,2),show=False,ylim=[-2,2])\n",
    "p2 = plot(ytan0,(x,-1/2,2),show=False,ylim=[-2,2])\n",
    "p3 = plot_implicit(Eq(x,sqrt(3)),show=False,ylim=[-2,2])\n",
    "\n",
    "p1.extend(p2)\n",
    "p1.extend(p3)\n",
    "p1.show()"
   ]
  },
  {
   "cell_type": "markdown",
   "id": "1da679f7",
   "metadata": {},
   "source": [
    "### Punto di intersezione"
   ]
  },
  {
   "cell_type": "code",
   "execution_count": 38,
   "id": "e4d6383f",
   "metadata": {},
   "outputs": [
    {
     "data": {
      "text/plain": [
       "[0, 1]"
      ]
     },
     "execution_count": 38,
     "metadata": {},
     "output_type": "execute_result"
    }
   ],
   "source": [
    "solve(Eq(fm1,ytan0))"
   ]
  },
  {
   "cell_type": "code",
   "execution_count": 39,
   "id": "4b2e9600",
   "metadata": {},
   "outputs": [
    {
     "data": {
      "text/plain": [
       "((x**2 + x)/(x**2 + 1), x)"
      ]
     },
     "execution_count": 39,
     "metadata": {},
     "output_type": "execute_result"
    }
   ],
   "source": [
    "fm1,ytan0"
   ]
  },
  {
   "cell_type": "code",
   "execution_count": 40,
   "id": "13e9725e",
   "metadata": {},
   "outputs": [],
   "source": [
    "y = symbols('y', real=True)"
   ]
  },
  {
   "cell_type": "code",
   "execution_count": 41,
   "id": "943a9108",
   "metadata": {},
   "outputs": [
    {
     "data": {
      "image/png": "[encoded data removed]",
      "text/plain": [
       "<Figure size 432x288 with 1 Axes>"
      ]
     },
     "metadata": {
      "needs_background": "light"
     },
     "output_type": "display_data"
    }
   ],
   "source": [
    "cond = Or(\n",
    "    And(y <= fm1, y >= ytan0),\n",
    "    And(y >= fm1, y <= ytan0)\n",
    ")\n",
    "\n",
    "p1 = plot(fm1,(x,-1/2,2),show=False,ylim=[-2,2])\n",
    "p2 = plot(ytan0,(x,-1/2,2),show=False,ylim=[-2,2])\n",
    "p3 = plot_implicit(Eq(x,sqrt(3)),show=False,ylim=[-2,2])\n",
    "p = plot_implicit(cond, (x,0,sqrt(3)), (y,0,2),show=False)\n",
    "\n",
    "p1.extend(p2)\n",
    "p1.extend(p3)\n",
    "p1.extend(p)\n",
    "p1.show()\n",
    "\n"
   ]
  },
  {
   "cell_type": "markdown",
   "id": "0a8ec4c9",
   "metadata": {},
   "source": [
    "### Area"
   ]
  },
  {
   "cell_type": "code",
   "execution_count": 42,
   "id": "a86f1f3a",
   "metadata": {},
   "outputs": [
    {
     "data": {
      "text/latex": [
       "$\\displaystyle - \\frac{x^{2}}{2} + x + \\frac{\\log{\\left(x^{2} + 1 \\right)}}{2} - \\operatorname{atan}{\\left(x \\right)}$"
      ],
      "text/plain": [
       "-x**2/2 + x + log(x**2 + 1)/2 - atan(x)"
      ]
     },
     "execution_count": 42,
     "metadata": {},
     "output_type": "execute_result"
    }
   ],
   "source": [
    "integrate(fm1-ytan0,x)"
   ]
  },
  {
   "cell_type": "code",
   "execution_count": 43,
   "id": "89af0651",
   "metadata": {},
   "outputs": [
    {
     "data": {
      "text/latex": [
       "$\\displaystyle - \\frac{\\pi}{4} + \\frac{\\log{\\left(2 \\right)}}{2} + \\frac{1}{2}$"
      ],
      "text/plain": [
       "-pi/4 + log(2)/2 + 1/2"
      ]
     },
     "metadata": {},
     "output_type": "display_data"
    },
    {
     "data": {
      "text/latex": [
       "$\\displaystyle - \\sqrt{3} - \\frac{\\log{\\left(2 \\right)}}{2} + \\frac{\\pi}{12} + 2$"
      ],
      "text/plain": [
       "-sqrt(3) - log(2)/2 + pi/12 + 2"
      ]
     },
     "metadata": {},
     "output_type": "display_data"
    },
    {
     "data": {
      "text/latex": [
       "$\\displaystyle - \\sqrt{3} - \\frac{\\pi}{6} + \\frac{5}{2}$"
      ],
      "text/plain": [
       "-sqrt(3) - pi/6 + 5/2"
      ]
     },
     "metadata": {},
     "output_type": "display_data"
    }
   ],
   "source": [
    "I1 = simplify(integrate(fm1-ytan0,(x,0,1)))\n",
    "display(I1)\n",
    "I2 = simplify(integrate(ytan0 - fm1,(x,1,sqrt(3))))\n",
    "display(I2)\n",
    "I = simplify(I1+ I2)\n",
    "display(I)"
   ]
  },
  {
   "cell_type": "code",
   "execution_count": null,
   "id": "48f50198",
   "metadata": {},
   "outputs": [],
   "source": []
  }
 ],
 "metadata": {
  "kernelspec": {
   "display_name": "Python 3 (ipykernel)",
   "language": "python",
   "name": "python3"
  },
  "language_info": {
   "codemirror_mode": {
    "name": "ipython",
    "version": 3
   },
   "file_extension": ".py",
   "mimetype": "text/x-python",
   "name": "python",
   "nbconvert_exporter": "python",
   "pygments_lexer": "ipython3",
   "version": "3.9.10"
  }
 },
 "nbformat": 4,
 "nbformat_minor": 5
}
