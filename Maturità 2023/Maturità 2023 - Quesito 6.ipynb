{
 "cells": [
  {
   "cell_type": "markdown",
   "id": "b69f534a",
   "metadata": {},
   "source": [
    "# Maturità 2023 - Quesito 6"
   ]
  },
  {
   "cell_type": "markdown",
   "id": "92a2505b",
   "metadata": {},
   "source": [
    "> Determinare i valori dei parametri reali $a$ e $b$ affinché  $$\\lim\\limits_{x\\to0} {\\sin{x}-(ax^3+bx)\\over x^3}=1$$"
   ]
  },
  {
   "cell_type": "code",
   "execution_count": 1,
   "id": "0b63978a",
   "metadata": {},
   "outputs": [],
   "source": [
    "# Toolbox simbolico\n",
    "from sympy import *"
   ]
  },
  {
   "cell_type": "markdown",
   "id": "5d4af405",
   "metadata": {},
   "source": [
    "## Strategia 1: Attraverso De L'Hopital"
   ]
  },
  {
   "cell_type": "code",
   "execution_count": 2,
   "id": "1fc309d7",
   "metadata": {},
   "outputs": [],
   "source": [
    "x = symbols('x', real=True)\n",
    "a = symbols('a', real=True)\n",
    "b = symbols('b', real=True)\n",
    "\n",
    "# Definizione del numeratore e del denominatore\n",
    "fnum = sin(x)-(a*x**3+b*x)\n",
    "fden = x**3"
   ]
  },
  {
   "cell_type": "code",
   "execution_count": 3,
   "id": "f40a1c41",
   "metadata": {},
   "outputs": [
    {
     "name": "stdout",
     "output_type": "stream",
     "text": [
      "Limite del numeratore:\n"
     ]
    },
    {
     "data": {
      "text/latex": [
       "$\\displaystyle 0$"
      ],
      "text/plain": [
       "0"
      ]
     },
     "metadata": {},
     "output_type": "display_data"
    },
    {
     "name": "stdout",
     "output_type": "stream",
     "text": [
      "Limite del denominatore:\n"
     ]
    },
    {
     "data": {
      "text/latex": [
       "$\\displaystyle 0$"
      ],
      "text/plain": [
       "0"
      ]
     },
     "metadata": {},
     "output_type": "display_data"
    }
   ],
   "source": [
    "# Prima coppia di limiti\n",
    "print(\"Limite del numeratore:\")\n",
    "n1 = limit(fnum,x,0)\n",
    "display(n1)\n",
    "\n",
    "print(\"Limite del denominatore:\")\n",
    "d1 = limit(fden,x,0)\n",
    "display(d1)"
   ]
  },
  {
   "cell_type": "code",
   "execution_count": 4,
   "id": "38ae3d21",
   "metadata": {},
   "outputs": [
    {
     "name": "stdout",
     "output_type": "stream",
     "text": [
      "Derivata del numeratore:\n"
     ]
    },
    {
     "data": {
      "text/latex": [
       "$\\displaystyle - 3 a x^{2} - b + \\cos{\\left(x \\right)}$"
      ],
      "text/plain": [
       "-3*a*x**2 - b + cos(x)"
      ]
     },
     "metadata": {},
     "output_type": "display_data"
    },
    {
     "name": "stdout",
     "output_type": "stream",
     "text": [
      "Derivata del denominatore:\n"
     ]
    },
    {
     "data": {
      "text/latex": [
       "$\\displaystyle 3 x^{2}$"
      ],
      "text/plain": [
       "3*x**2"
      ]
     },
     "metadata": {},
     "output_type": "display_data"
    }
   ],
   "source": [
    "# Calcolo della derivata\n",
    "fnum1 = diff(fnum,x)\n",
    "fden1 = diff(fden,x)\n",
    "\n",
    "print(\"Derivata del numeratore:\")\n",
    "display(fnum1)\n",
    "\n",
    "print(\"Derivata del denominatore:\")\n",
    "display(fden1)"
   ]
  },
  {
   "cell_type": "code",
   "execution_count": 5,
   "id": "baf749f8",
   "metadata": {},
   "outputs": [
    {
     "name": "stdout",
     "output_type": "stream",
     "text": [
      "Limite del numeratore :\n"
     ]
    },
    {
     "data": {
      "text/latex": [
       "$\\displaystyle 1 - b$"
      ],
      "text/plain": [
       "1 - b"
      ]
     },
     "metadata": {},
     "output_type": "display_data"
    },
    {
     "name": "stdout",
     "output_type": "stream",
     "text": [
      "Limite del denominatore:\n"
     ]
    },
    {
     "data": {
      "text/latex": [
       "$\\displaystyle 0$"
      ],
      "text/plain": [
       "0"
      ]
     },
     "metadata": {},
     "output_type": "display_data"
    }
   ],
   "source": [
    "# Seconda coppia di limiti\n",
    "print(\"Limite del numeratore :\")\n",
    "n1 = limit(fnum1,x,0)\n",
    "display(n1)\n",
    "\n",
    "print(\"Limite del denominatore:\")\n",
    "d1 = limit(fden1,x,0)\n",
    "display(d1)"
   ]
  },
  {
   "cell_type": "code",
   "execution_count": 6,
   "id": "5bb6a69d",
   "metadata": {},
   "outputs": [
    {
     "name": "stdout",
     "output_type": "stream",
     "text": [
      "Valore di b:\n",
      "[1]\n"
     ]
    }
   ],
   "source": [
    "# Condizione affiché sia zero anche il numeratore\n",
    "print(\"Valore di b:\")\n",
    "bsol = solve(n1,b)\n",
    "print(bsol)"
   ]
  },
  {
   "cell_type": "code",
   "execution_count": 7,
   "id": "084f7ea4",
   "metadata": {},
   "outputs": [
    {
     "name": "stdout",
     "output_type": "stream",
     "text": [
      "Numeratore della funzione con b sostituito:\n"
     ]
    },
    {
     "data": {
      "text/latex": [
       "$\\displaystyle - a x^{3} - x + \\sin{\\left(x \\right)}$"
      ],
      "text/plain": [
       "-a*x**3 - x + sin(x)"
      ]
     },
     "metadata": {},
     "output_type": "display_data"
    },
    {
     "name": "stdout",
     "output_type": "stream",
     "text": [
      "Derivata con b sostituito:\n"
     ]
    },
    {
     "data": {
      "text/latex": [
       "$\\displaystyle - 3 a x^{2} + \\cos{\\left(x \\right)} - 1$"
      ],
      "text/plain": [
       "-3*a*x**2 + cos(x) - 1"
      ]
     },
     "metadata": {},
     "output_type": "display_data"
    }
   ],
   "source": [
    "# Sostituzione di b nell'espressione della funzione e della derivata fino ad adesso\n",
    "fnum = fnum.subs(b,bsol[0])\n",
    "print(\"Numeratore della funzione con b sostituito:\")\n",
    "display(fnum)\n",
    "\n",
    "print(\"Derivata con b sostituito:\")\n",
    "fnum1 = fnum1.subs(b,bsol[0])\n",
    "display(fnum1)"
   ]
  },
  {
   "cell_type": "code",
   "execution_count": 8,
   "id": "7eaadaba",
   "metadata": {},
   "outputs": [
    {
     "name": "stdout",
     "output_type": "stream",
     "text": [
      "Derivata del numeratore:\n"
     ]
    },
    {
     "data": {
      "text/latex": [
       "$\\displaystyle - 6 a x - \\sin{\\left(x \\right)}$"
      ],
      "text/plain": [
       "-6*a*x - sin(x)"
      ]
     },
     "metadata": {},
     "output_type": "display_data"
    },
    {
     "name": "stdout",
     "output_type": "stream",
     "text": [
      "Derivata del denominatore:\n"
     ]
    },
    {
     "data": {
      "text/latex": [
       "$\\displaystyle 6 x$"
      ],
      "text/plain": [
       "6*x"
      ]
     },
     "metadata": {},
     "output_type": "display_data"
    }
   ],
   "source": [
    "# Ora abbiamo ancora una forma indeterminata e procediamo ad applicare De L'Hopital\n",
    "# Derivate\n",
    "fnum2 = diff(fnum1,x)\n",
    "fden2 = diff(fden1,x)\n",
    "\n",
    "print(\"Derivata del numeratore:\")\n",
    "display(fnum2)\n",
    "\n",
    "print(\"Derivata del denominatore:\")\n",
    "display(fden2)"
   ]
  },
  {
   "cell_type": "code",
   "execution_count": 9,
   "id": "a93feab2",
   "metadata": {},
   "outputs": [
    {
     "name": "stdout",
     "output_type": "stream",
     "text": [
      "Limite del numeratore :\n"
     ]
    },
    {
     "data": {
      "text/latex": [
       "$\\displaystyle 0$"
      ],
      "text/plain": [
       "0"
      ]
     },
     "metadata": {},
     "output_type": "display_data"
    },
    {
     "name": "stdout",
     "output_type": "stream",
     "text": [
      "Limite del denominatore:\n"
     ]
    },
    {
     "data": {
      "text/latex": [
       "$\\displaystyle 0$"
      ],
      "text/plain": [
       "0"
      ]
     },
     "metadata": {},
     "output_type": "display_data"
    }
   ],
   "source": [
    "# Terza coppia di limiti\n",
    "print(\"Limite del numeratore :\")\n",
    "n1 = limit(fnum2,x,0)\n",
    "display(n1)\n",
    "\n",
    "print(\"Limite del denominatore:\")\n",
    "d1 = limit(fden2,x,0)\n",
    "display(d1)"
   ]
  },
  {
   "cell_type": "code",
   "execution_count": 10,
   "id": "c5bda7b0",
   "metadata": {},
   "outputs": [
    {
     "name": "stdout",
     "output_type": "stream",
     "text": [
      "Derivata del numeratore:\n"
     ]
    },
    {
     "data": {
      "text/latex": [
       "$\\displaystyle - 6 a - \\cos{\\left(x \\right)}$"
      ],
      "text/plain": [
       "-6*a - cos(x)"
      ]
     },
     "metadata": {},
     "output_type": "display_data"
    },
    {
     "name": "stdout",
     "output_type": "stream",
     "text": [
      "Derivata del denominatore:\n"
     ]
    },
    {
     "data": {
      "text/latex": [
       "$\\displaystyle 6$"
      ],
      "text/plain": [
       "6"
      ]
     },
     "metadata": {},
     "output_type": "display_data"
    }
   ],
   "source": [
    "# Si tratta ancora di una forma indeterminata e quindi procedo ad applicare nuovamente il De L'Hopital\n",
    "# Derivate\n",
    "fnum3 = diff(fnum2,x)\n",
    "fden3 = diff(fden2,x)\n",
    "\n",
    "print(\"Derivata del numeratore:\")\n",
    "display(fnum3)\n",
    "\n",
    "print(\"Derivata del denominatore:\")\n",
    "display(fden3)"
   ]
  },
  {
   "cell_type": "code",
   "execution_count": 11,
   "id": "57b61c5c",
   "metadata": {},
   "outputs": [
    {
     "name": "stdout",
     "output_type": "stream",
     "text": [
      "Limite del numeratore :\n"
     ]
    },
    {
     "data": {
      "text/latex": [
       "$\\displaystyle - 6 a - 1$"
      ],
      "text/plain": [
       "-6*a - 1"
      ]
     },
     "metadata": {},
     "output_type": "display_data"
    },
    {
     "name": "stdout",
     "output_type": "stream",
     "text": [
      "Limite del denominatore:\n"
     ]
    },
    {
     "data": {
      "text/latex": [
       "$\\displaystyle 6$"
      ],
      "text/plain": [
       "6"
      ]
     },
     "metadata": {},
     "output_type": "display_data"
    }
   ],
   "source": [
    "# Quarta coppia di limiti\n",
    "print(\"Limite del numeratore :\")\n",
    "n1 = limit(fnum3,x,0)\n",
    "display(n1)\n",
    "\n",
    "print(\"Limite del denominatore:\")\n",
    "d1 = limit(fden3,x,0)\n",
    "display(d1)"
   ]
  },
  {
   "cell_type": "code",
   "execution_count": 12,
   "id": "67e38871",
   "metadata": {},
   "outputs": [
    {
     "name": "stdout",
     "output_type": "stream",
     "text": [
      "Valore di a:\n"
     ]
    },
    {
     "data": {
      "text/plain": [
       "[-7/6]"
      ]
     },
     "metadata": {},
     "output_type": "display_data"
    }
   ],
   "source": [
    "# Non è più una forma indeterminata, quindi impongo la condizione richiesta i.e. che sia 1\n",
    "print(\"Valore di a:\")\n",
    "eq = n1 / d1 - 1\n",
    "asol = solve(eq,a)\n",
    "display(asol)"
   ]
  },
  {
   "cell_type": "code",
   "execution_count": 13,
   "id": "37ff02b2",
   "metadata": {},
   "outputs": [
    {
     "data": {
      "text/latex": [
       "$\\displaystyle \\frac{7 x^{3}}{6} - x + \\sin{\\left(x \\right)}$"
      ],
      "text/plain": [
       "7*x**3/6 - x + sin(x)"
      ]
     },
     "metadata": {},
     "output_type": "display_data"
    },
    {
     "data": {
      "text/latex": [
       "$\\displaystyle x^{3}$"
      ],
      "text/plain": [
       "x**3"
      ]
     },
     "metadata": {},
     "output_type": "display_data"
    }
   ],
   "source": [
    "# Espressione finale (sostituzione di a)\n",
    "fnum = fnum.subs(a,asol[0])\n",
    "display(fnum)\n",
    "display(fden)"
   ]
  },
  {
   "cell_type": "code",
   "execution_count": 14,
   "id": "4692bc43",
   "metadata": {},
   "outputs": [
    {
     "data": {
      "text/latex": [
       "$\\displaystyle 1$"
      ],
      "text/plain": [
       "1"
      ]
     },
     "execution_count": 14,
     "metadata": {},
     "output_type": "execute_result"
    }
   ],
   "source": [
    "# Verifica finale\n",
    "limit(fnum/fden,x,0)"
   ]
  },
  {
   "cell_type": "markdown",
   "id": "adaa4897",
   "metadata": {},
   "source": [
    "## Strategia 2: Attraverso Taylor"
   ]
  },
  {
   "cell_type": "code",
   "execution_count": 15,
   "id": "a44242df",
   "metadata": {},
   "outputs": [
    {
     "data": {
      "text/latex": [
       "$\\displaystyle x - \\frac{x^{3}}{6} - b x - a x^{3} + O\\left(x^{5}\\right)$"
      ],
      "text/plain": [
       "x - x**3/6 - b*x - a*x**3 + O(x**5)"
      ]
     },
     "metadata": {},
     "output_type": "display_data"
    },
    {
     "data": {
      "text/latex": [
       "$\\displaystyle x^{3}$"
      ],
      "text/plain": [
       "x**3"
      ]
     },
     "metadata": {},
     "output_type": "display_data"
    }
   ],
   "source": [
    "x = symbols('x', real=True)\n",
    "a = symbols('a', real=True)\n",
    "b = symbols('b', real=True)\n",
    "\n",
    "# Definizione del numeratore e del denominatore\n",
    "fnum = sin(x).series(x,0,5)-(a*x**3+b*x)\n",
    "fden = x**3\n",
    "\n",
    "display(fnum,fden)"
   ]
  },
  {
   "cell_type": "code",
   "execution_count": 16,
   "id": "06feb00d",
   "metadata": {},
   "outputs": [
    {
     "data": {
      "text/latex": [
       "$\\displaystyle \\frac{1}{x^{2}} - \\frac{1}{6} - \\frac{b}{x^{2}} - a + O\\left(x^{2}\\right)$"
      ],
      "text/plain": [
       "x**(-2) - 1/6 - b/x**2 - a + O(x**2)"
      ]
     },
     "execution_count": 16,
     "metadata": {},
     "output_type": "execute_result"
    }
   ],
   "source": [
    "simplify(fnum/fden)"
   ]
  },
  {
   "cell_type": "code",
   "execution_count": 17,
   "id": "a07bc0fd",
   "metadata": {},
   "outputs": [
    {
     "data": {
      "text/latex": [
       "$\\displaystyle - a - \\frac{1}{6} + \\frac{6 - 6 b + O\\left(x^{4}\\right)}{6 x^{2}}$"
      ],
      "text/plain": [
       "-a - 1/6 + (6 - 6*b + O(x**4))/(6*x**2)"
      ]
     },
     "execution_count": 17,
     "metadata": {},
     "output_type": "execute_result"
    }
   ],
   "source": [
    "ratsimp(simplify(fnum/fden))"
   ]
  },
  {
   "cell_type": "code",
   "execution_count": 18,
   "id": "92c1d3ba",
   "metadata": {},
   "outputs": [
    {
     "data": {
      "text/latex": [
       "$\\displaystyle \\frac{1 - b}{x^{2}} - \\frac{1}{6} + \\frac{x^{2}}{120} - \\frac{x^{4}}{5040} - a + O\\left(x^{6}\\right)$"
      ],
      "text/plain": [
       "(1 - b)/x**2 - 1/6 + x**2/120 - x**4/5040 - a + O(x**6)"
      ]
     },
     "metadata": {},
     "output_type": "display_data"
    }
   ],
   "source": [
    "ftaylor = ((sin(x)-(a*x**3+b*x))/ (x**3)).series(x)\n",
    "display(ftaylor)"
   ]
  },
  {
   "cell_type": "code",
   "execution_count": 19,
   "id": "628a337e",
   "metadata": {},
   "outputs": [
    {
     "data": {
      "text/latex": [
       "$\\displaystyle - \\frac{1}{6} + \\frac{x^{2}}{120} - \\frac{x^{4}}{5040} - a + O\\left(x^{6}\\right)$"
      ],
      "text/plain": [
       "-1/6 + x**2/120 - x**4/5040 - a + O(x**6)"
      ]
     },
     "execution_count": 19,
     "metadata": {},
     "output_type": "execute_result"
    }
   ],
   "source": [
    "ftaylor.subs(b,1)"
   ]
  },
  {
   "cell_type": "code",
   "execution_count": null,
   "id": "bd778de3",
   "metadata": {},
   "outputs": [],
   "source": []
  }
 ],
 "metadata": {
  "kernelspec": {
   "display_name": "Python 3 (ipykernel)",
   "language": "python",
   "name": "python3"
  },
  "language_info": {
   "codemirror_mode": {
    "name": "ipython",
    "version": 3
   },
   "file_extension": ".py",
   "mimetype": "text/x-python",
   "name": "python",
   "nbconvert_exporter": "python",
   "pygments_lexer": "ipython3",
   "version": "3.9.10"
  }
 },
 "nbformat": 4,
 "nbformat_minor": 5
}
