{
 "cells": [
  {
   "cell_type": "markdown",
   "id": "b69f534a",
   "metadata": {},
   "source": [
    "# Maturità 2023 - Quesito 2"
   ]
  },
  {
   "cell_type": "markdown",
   "id": "92a2505b",
   "metadata": {},
   "source": [
    "> Un dado truccato, con le facce numerate da $1$ a $6$, gode della proprietà di avere ciascuna faccia pari che si presenta con probabilità doppia rispetto a ciascuna faccia dispari. Calcolare la probabilità di ottenere, lanciando una volta il dado, rispettivamente:\n",
    ">\n",
    "> - un numero primo\n",
    "> - un numero almeno pari a $3$\n",
    "> - un numero al più pari a $3$  "
   ]
  },
  {
   "cell_type": "code",
   "execution_count": 1,
   "id": "0b63978a",
   "metadata": {},
   "outputs": [],
   "source": [
    "# Toolbox simbolico\n",
    "from sympy import *\n",
    "\n",
    "p = symbols('p', real=True)"
   ]
  },
  {
   "cell_type": "code",
   "execution_count": 2,
   "id": "eee6d676",
   "metadata": {},
   "outputs": [
    {
     "data": {
      "text/latex": [
       "$\\displaystyle \\frac{1}{9}$"
      ],
      "text/plain": [
       "1/9"
      ]
     },
     "execution_count": 2,
     "metadata": {},
     "output_type": "execute_result"
    }
   ],
   "source": [
    "# Trovo p\n",
    "p = solve(Eq(3*(2*p)+3*p,1),p)[0]\n",
    "p"
   ]
  },
  {
   "cell_type": "code",
   "execution_count": 3,
   "id": "68966f05",
   "metadata": {},
   "outputs": [
    {
     "data": {
      "text/latex": [
       "$\\displaystyle \\left[\\begin{matrix}\\frac{1}{9} & \\frac{2}{9} & \\frac{1}{9} & \\frac{2}{9} & \\frac{1}{9} & \\frac{2}{9}\\end{matrix}\\right]$"
      ],
      "text/plain": [
       "[1/9, 2/9, 1/9, 2/9, 1/9, 2/9]"
      ]
     },
     "execution_count": 3,
     "metadata": {},
     "output_type": "execute_result"
    }
   ],
   "source": [
    "# Vettore delle singole probabilità\n",
    "P = Array([p,2*p,p,2*p,p,2*p])\n",
    "P"
   ]
  },
  {
   "cell_type": "markdown",
   "id": "aa84037f",
   "metadata": {},
   "source": [
    "## Esca un numero primo"
   ]
  },
  {
   "cell_type": "code",
   "execution_count": 4,
   "id": "b550c920",
   "metadata": {},
   "outputs": [],
   "source": [
    "# Gli array in Python iniziano da 0"
   ]
  },
  {
   "cell_type": "code",
   "execution_count": 5,
   "id": "a65321d3",
   "metadata": {},
   "outputs": [
    {
     "data": {
      "text/latex": [
       "$\\displaystyle \\frac{4}{9}$"
      ],
      "text/plain": [
       "4/9"
      ]
     },
     "execution_count": 5,
     "metadata": {},
     "output_type": "execute_result"
    }
   ],
   "source": [
    "Pprimo = P[2-1] + P[3-1] + P[5-1]\n",
    "Pprimo"
   ]
  },
  {
   "cell_type": "markdown",
   "id": "326a667c",
   "metadata": {},
   "source": [
    "## Esca un numero almeno pari a $3$"
   ]
  },
  {
   "cell_type": "code",
   "execution_count": 6,
   "id": "ffcef0a1",
   "metadata": {},
   "outputs": [
    {
     "data": {
      "text/latex": [
       "$\\displaystyle \\frac{2}{3}$"
      ],
      "text/plain": [
       "2/3"
      ]
     },
     "execution_count": 6,
     "metadata": {},
     "output_type": "execute_result"
    }
   ],
   "source": [
    "Palmeno3 = P[3-1] + P[4-1] + P[5-1] + P[6-1]\n",
    "Palmeno3"
   ]
  },
  {
   "cell_type": "markdown",
   "id": "14dbf5ac",
   "metadata": {},
   "source": [
    "## Esca un numero al più pari a $3$  "
   ]
  },
  {
   "cell_type": "code",
   "execution_count": 7,
   "id": "d0f67d2b",
   "metadata": {},
   "outputs": [
    {
     "data": {
      "text/latex": [
       "$\\displaystyle \\frac{4}{9}$"
      ],
      "text/plain": [
       "4/9"
      ]
     },
     "execution_count": 7,
     "metadata": {},
     "output_type": "execute_result"
    }
   ],
   "source": [
    "Palpiu3 = P[1-1] + P[2-1] + P[3-1]\n",
    "Palpiu3"
   ]
  },
  {
   "cell_type": "code",
   "execution_count": null,
   "id": "6ce3fbb5",
   "metadata": {},
   "outputs": [],
   "source": []
  }
 ],
 "metadata": {
  "kernelspec": {
   "display_name": "Python 3 (ipykernel)",
   "language": "python",
   "name": "python3"
  },
  "language_info": {
   "codemirror_mode": {
    "name": "ipython",
    "version": 3
   },
   "file_extension": ".py",
   "mimetype": "text/x-python",
   "name": "python",
   "nbconvert_exporter": "python",
   "pygments_lexer": "ipython3",
   "version": "3.9.10"
  }
 },
 "nbformat": 4,
 "nbformat_minor": 5
}
